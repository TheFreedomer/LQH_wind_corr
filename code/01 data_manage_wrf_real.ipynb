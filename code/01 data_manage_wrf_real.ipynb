{
 "cells": [
  {
   "cell_type": "code",
   "id": "c3e5b87b",
   "metadata": {
    "ExecuteTime": {
     "end_time": "2024-10-08T08:11:06.957911Z",
     "start_time": "2024-10-08T08:11:06.670599Z"
    }
   },
   "source": [
    "import netCDF4 as nc\n",
    "import os\n",
    "import numpy as np\n",
    "import pandas as pd\n",
    "import pickle"
   ],
   "outputs": [],
   "execution_count": 1
  },
  {
   "metadata": {},
   "cell_type": "markdown",
   "source": "# test(查看某个文件中数据时间格式)",
   "id": "e8fbed4b4d007411"
  },
  {
   "metadata": {
    "ExecuteTime": {
     "end_time": "2024-10-08T08:13:01.806572Z",
     "start_time": "2024-10-08T08:13:01.138423Z"
    }
   },
   "cell_type": "code",
   "source": [
    "filepath = r'D:\\Wind_correction\\nanhai\\data\\wrf\\wrf_202102.nc'\n",
    "dataset = nc.Dataset(filepath, mode='r')"
   ],
   "id": "d32c65541d9a17ec",
   "outputs": [],
   "execution_count": 3
  },
  {
   "metadata": {
    "ExecuteTime": {
     "end_time": "2024-10-08T08:13:09.633351Z",
     "start_time": "2024-10-08T08:13:09.629093Z"
    }
   },
   "cell_type": "code",
   "source": "dataset['time']",
   "id": "4e8e64d2c9857a08",
   "outputs": [
    {
     "data": {
      "text/plain": [
       "<class 'netCDF4._netCDF4.Variable'>\n",
       "float64 time(time)\n",
       "    long_name: time\n",
       "    units: hours since 2021-02-01 00:00:00 \n",
       "    calendar: standard\n",
       "unlimited dimensions: \n",
       "current shape = (672,)\n",
       "filling on, default _FillValue of 9.969209968386869e+36 used"
      ]
     },
     "execution_count": 5,
     "metadata": {},
     "output_type": "execute_result"
    }
   ],
   "execution_count": 5
  },
  {
   "cell_type": "markdown",
   "id": "789386c1",
   "metadata": {},
   "source": [
    "## Feature---WRF数据"
   ]
  },
  {
   "cell_type": "code",
   "id": "578316d4",
   "metadata": {
    "ExecuteTime": {
     "end_time": "2024-10-08T08:16:50.564623Z",
     "start_time": "2024-10-08T08:16:50.560863Z"
    }
   },
   "source": [
    "import re\n",
    "def find_time_origin(string):\n",
    "    # 正则表达式模式，匹配日期时间格式  \n",
    "    pattern = r'\\d{4}-\\d{2}-\\d{2} \\d{2}:\\d{2}:\\d{2}'  \n",
    "    # 使用re.search()查找匹配项  \n",
    "    match = re.search(pattern, string)  \n",
    "    # 如果找到匹配项，则提取匹配的日期时间字符串  \n",
    "    if match:  \n",
    "        date_time = match.group()\n",
    "        print(date_time)\n",
    "        return date_time\n",
    "    else:  \n",
    "        print(\"没有找到匹配的日期时间\")"
   ],
   "outputs": [],
   "execution_count": 6
  },
  {
   "cell_type": "code",
   "id": "8b35e6e5",
   "metadata": {
    "ExecuteTime": {
     "end_time": "2024-10-08T08:16:51.139320Z",
     "start_time": "2024-10-08T08:16:51.134337Z"
    }
   },
   "source": [
    "# 构建读取wrf数据的函数\n",
    "def load_wrf(data_dir, variable_str):\n",
    "    filename = os.listdir(data_dir)\n",
    "    dict_target = {}\n",
    "    for i, filename in enumerate(filename):\n",
    "        filepath = os.path.join(data_dir, filename)\n",
    "        dataset = nc.Dataset(filepath, mode='r')\n",
    "\n",
    "        for variable in variable_str:\n",
    "            data_temp = np.squeeze(dataset[variable][:])\n",
    "            if variable == 'time':\n",
    "                # 提取待处理字符串\n",
    "                time_string = dataset[variable].units\n",
    "                # 使用正则表达式提取时间\n",
    "                datetime_origin = find_time_origin(time_string)\n",
    "                # 时间戳转换\n",
    "                data_temp = pd.to_datetime(data_temp, unit='h', origin=datetime_origin)\n",
    "                \n",
    "            if i == 0:\n",
    "                dict_target[variable] = data_temp\n",
    "            else:\n",
    "                dict_target[variable] = np.concatenate((dict_target[variable], data_temp))\n",
    "            \n",
    "    return dict_target"
   ],
   "outputs": [],
   "execution_count": 7
  },
  {
   "cell_type": "code",
   "id": "8c49e9a2",
   "metadata": {
    "ExecuteTime": {
     "end_time": "2024-10-08T08:16:52.037684Z",
     "start_time": "2024-10-08T08:16:52.034204Z"
    }
   },
   "source": [
    "# 依据风速分量u、v 合成速度大小velocity 和 风向degree\n",
    "def get_vd(u, v):\n",
    "    # 计算风速大小\n",
    "    velocity = np.sqrt((u**2 + v**2))\n",
    "    # 计算风向（以度表示）\n",
    "    deg = 180.0/np.pi\n",
    "    degrees = 180.0 + np.arctan2(u, v)*deg\n",
    "    return velocity, degrees"
   ],
   "outputs": [],
   "execution_count": 8
  },
  {
   "cell_type": "code",
   "id": "d9227b75",
   "metadata": {
    "ExecuteTime": {
     "end_time": "2024-10-08T08:19:07.210077Z",
     "start_time": "2024-10-08T08:16:54.941362Z"
    }
   },
   "source": [
    "## 处理WRF数据\n",
    "# 构建加载参数\n",
    "wrf_data_dir = r'D:\\Wind_correction\\nanhai\\data\\wrf'\n",
    "wrf_variable_str = ['time', 'u10', 'v10', 'rh2', 't2', 'slp', 'lon', 'lat']\n",
    "# 加载数据\n",
    "dict_wrf = load_wrf(wrf_data_dir, wrf_variable_str)"
   ],
   "outputs": [
    {
     "name": "stdout",
     "output_type": "stream",
     "text": [
      "2021-02-01 00:00:00\n",
      "2021-03-01 00:00:00\n",
      "2021-04-01 00:00:00\n",
      "2021-05-01 00:00:00\n",
      "2021-06-01 00:00:00\n",
      "2021-07-01 00:00:00\n",
      "2021-08-01 00:00:00\n",
      "2021-09-01 00:00:00\n",
      "2021-10-01 00:00:00\n",
      "2021-11-01 00:00:00\n",
      "2021-12-01 00:00:00\n",
      "2022-01-01 00:00:00\n",
      "2022-02-01 00:00:00\n",
      "2022-03-01 00:00:00\n",
      "2022-04-01 00:00:00\n",
      "2022-05-01 00:00:00\n",
      "2023-04-01 00:00:00\n"
     ]
    }
   ],
   "execution_count": 9
  },
  {
   "cell_type": "code",
   "id": "be180882",
   "metadata": {
    "ExecuteTime": {
     "end_time": "2024-09-02T02:56:57.677904Z",
     "start_time": "2024-09-02T02:56:52.294426Z"
    }
   },
   "source": [
    "# 计算矢量风速和方向\n",
    "dict_wrf['velocity'], dict_wrf['degree'] = get_vd(dict_wrf['u10'], dict_wrf['v10'])"
   ],
   "outputs": [],
   "execution_count": 6
  },
  {
   "cell_type": "code",
   "id": "ec690087",
   "metadata": {
    "ExecuteTime": {
     "end_time": "2024-09-02T02:57:15.032172Z",
     "start_time": "2024-09-02T02:57:15.026472Z"
    }
   },
   "source": [
    "## 经纬度lon/lat\n",
    "wrf_path_202102 = r'D:\\Wind_correction\\nanhai\\data\\wrf\\wrf_202102.nc'\n",
    "ds_wrf_202102 = nc.Dataset(wrf_path_202102 , mode = 'r')\n",
    "lon = ds_wrf_202102['lon'][:]\n",
    "lat = ds_wrf_202102['lat'][:]\n",
    "dict_wrf['lon'] = lon\n",
    "dict_wrf['lat'] = lat"
   ],
   "outputs": [],
   "execution_count": 7
  },
  {
   "cell_type": "code",
   "id": "8e45354b",
   "metadata": {
    "ExecuteTime": {
     "end_time": "2024-09-02T02:57:16.142992Z",
     "start_time": "2024-09-02T02:57:16.136698Z"
    }
   },
   "source": [
    "dict_wrf.keys()"
   ],
   "outputs": [
    {
     "data": {
      "text/plain": [
       "dict_keys(['time', 'u10', 'v10', 'rh2', 't2', 'slp', 'lon', 'lat', 'velocity', 'degree'])"
      ]
     },
     "execution_count": 8,
     "metadata": {},
     "output_type": "execute_result"
    }
   ],
   "execution_count": 8
  },
  {
   "cell_type": "code",
   "id": "e4a846c4",
   "metadata": {
    "ExecuteTime": {
     "end_time": "2024-09-02T02:57:17.170092Z",
     "start_time": "2024-09-02T02:57:17.164928Z"
    }
   },
   "source": [
    "dict_wrf['time']"
   ],
   "outputs": [
    {
     "data": {
      "text/plain": [
       "array(['2021-02-01T22:00:00.000000000', '2021-02-01T23:00:00.000000000',\n",
       "       '2021-02-02T00:00:00.000000000', ...,\n",
       "       '2023-05-01T19:00:00.000000000', '2023-05-01T20:00:00.000000000',\n",
       "       '2023-05-01T21:00:00.000000000'], dtype='datetime64[ns]')"
      ]
     },
     "execution_count": 9,
     "metadata": {},
     "output_type": "execute_result"
    }
   ],
   "execution_count": 9
  },
  {
   "cell_type": "markdown",
   "id": "98963f6c",
   "metadata": {},
   "source": [
    "## Label---实测数据"
   ]
  },
  {
   "cell_type": "code",
   "id": "fa4efc47",
   "metadata": {
    "ExecuteTime": {
     "end_time": "2024-09-29T08:14:13.334824Z",
     "start_time": "2024-09-29T08:14:13.330830Z"
    }
   },
   "source": [
    "# 构建读取实测数据的函数\n",
    "def load_real(data_dir, variable_str, station_str):\n",
    "    df_target_list = [] \n",
    "    filenames = os.listdir(data_dir)\n",
    "    print(filenames)\n",
    "    for i, filename in enumerate(filenames):\n",
    "        filepath = os.path.join(data_dir, filename)\n",
    "        df_temp = pd.read_excel(filepath, engine='openpyxl') \n",
    "        # 特殊处理站位编号\n",
    "        df_temp[station_str] = i\n",
    "        # 初始化字典容器\n",
    "        dict_target = {}\n",
    "        for variable in variable_str:\n",
    "            data_temp = df_temp[variable]\n",
    "            dict_target[variable] = data_temp \n",
    "        # 依据字典创建dataframe对象并添加到列表\n",
    "        df_target_list.append(pd.DataFrame(dict_target))\n",
    "    # 依据df_target_list合并各df对象\n",
    "    df_merge = pd.concat(df_target_list)\n",
    "    return df_merge"
   ],
   "outputs": [],
   "execution_count": 6
  },
  {
   "cell_type": "code",
   "id": "a9a45c48",
   "metadata": {
    "ExecuteTime": {
     "end_time": "2024-09-29T08:14:13.811399Z",
     "start_time": "2024-09-29T08:14:13.808539Z"
    }
   },
   "source": [
    "# 依据风速高度转换风速--计算经验系数k\n",
    "def get_k(h0, h, z0=0.003):\n",
    "    k = (np.log10(h) - np.log10(z0))/(np.log10(h0) - np.log10(z0))\n",
    "    return k"
   ],
   "outputs": [],
   "execution_count": 7
  },
  {
   "cell_type": "code",
   "id": "d1566b83",
   "metadata": {
    "scrolled": true,
    "ExecuteTime": {
     "end_time": "2024-09-29T08:14:33.167932Z",
     "start_time": "2024-09-29T08:14:18.984875Z"
    }
   },
   "source": [
    "## 处理标签数据\n",
    "# 构建加载数据参数\n",
    "label_data_dir = r'../data_real'\n",
    "label_variable_str = ['站位编号', '获取时间', '经度', '纬度', '平均风速', '平均风向']\n",
    "label_station_str = '站位编号'\n",
    "# 加载数据\n",
    "label_df_target = load_real(label_data_dir, label_variable_str, label_station_str)"
   ],
   "outputs": [
    {
     "name": "stdout",
     "output_type": "stream",
     "text": [
      "['A地大_A点.xlsx', 'B深圳大学_B点.xlsx', 'C地大_C点.xlsx', 'D深圳大学_D点.xlsx']\n"
     ]
    }
   ],
   "execution_count": 8
  },
  {
   "cell_type": "code",
   "id": "85d8107a",
   "metadata": {
    "ExecuteTime": {
     "end_time": "2024-09-02T03:09:16.392928Z",
     "start_time": "2024-09-02T03:09:16.387791Z"
    }
   },
   "source": [
    "# 计算系数k\n",
    "k = get_k(2.8, 10)\n",
    "print(k)\n",
    "# 计算10m平均风速\n",
    "label_df_target['平均风速_10m'] = label_df_target['平均风速'] * k"
   ],
   "outputs": [
    {
     "name": "stdout",
     "output_type": "stream",
     "text": [
      "1.1861397720759732\n"
     ]
    }
   ],
   "execution_count": 20
  },
  {
   "cell_type": "code",
   "id": "b4e78a10",
   "metadata": {
    "ExecuteTime": {
     "end_time": "2024-09-02T03:09:40.726692Z",
     "start_time": "2024-09-02T03:09:40.722034Z"
    }
   },
   "source": [
    "label_df_target.keys()"
   ],
   "outputs": [
    {
     "data": {
      "text/plain": [
       "Index(['站位编号', '获取时间', '经度', '纬度', '平均风速', '平均风向', '平均风速_10m'], dtype='object')"
      ]
     },
     "execution_count": 21,
     "metadata": {},
     "output_type": "execute_result"
    }
   ],
   "execution_count": 21
  },
  {
   "cell_type": "markdown",
   "id": "88d8e4a3",
   "metadata": {},
   "source": [
    "## 处理时间戳"
   ]
  },
  {
   "cell_type": "code",
   "id": "561b0f75",
   "metadata": {
    "scrolled": true,
    "ExecuteTime": {
     "end_time": "2024-09-02T03:09:48.705717Z",
     "start_time": "2024-09-02T03:09:48.700718Z"
    }
   },
   "source": [
    "# 处理wrf时间戳---Feature\n",
    "dict_wrf['time'] = pd.to_datetime(dict_wrf['time']).astype('int64').to_numpy()/10**9"
   ],
   "outputs": [],
   "execution_count": 22
  },
  {
   "cell_type": "code",
   "id": "5539cab9",
   "metadata": {
    "ExecuteTime": {
     "end_time": "2024-09-02T03:10:03.352006Z",
     "start_time": "2024-09-02T03:10:03.347932Z"
    }
   },
   "source": [
    "## 处理Real时间戳---Label\n",
    "time_label = label_df_target['获取时间']\n",
    "#转为numpy数组并以秒作为时间戳进制\n",
    "time_label_target = time_label.astype('int64').to_numpy() / 10 ** 9\n",
    "#覆盖原始数据\n",
    "label_df_target['获取时间'] = time_label_target"
   ],
   "outputs": [],
   "execution_count": 23
  },
  {
   "cell_type": "code",
   "id": "04250057",
   "metadata": {
    "ExecuteTime": {
     "end_time": "2024-09-02T03:10:10.378727Z",
     "start_time": "2024-09-02T03:10:10.373146Z"
    }
   },
   "source": [
    "dict_wrf['time']"
   ],
   "outputs": [
    {
     "data": {
      "text/plain": [
       "array([1.6122168e+09, 1.6122204e+09, 1.6122240e+09, ..., 1.6829676e+09,\n",
       "       1.6829712e+09, 1.6829748e+09])"
      ]
     },
     "execution_count": 24,
     "metadata": {},
     "output_type": "execute_result"
    }
   ],
   "execution_count": 24
  },
  {
   "cell_type": "code",
   "id": "b4a0ab7e",
   "metadata": {
    "ExecuteTime": {
     "end_time": "2024-09-02T03:10:11.613962Z",
     "start_time": "2024-09-02T03:10:11.608583Z"
    }
   },
   "source": [
    "label_df_target['获取时间']"
   ],
   "outputs": [
    {
     "data": {
      "text/plain": [
       "0        1.648173e+09\n",
       "1        1.648172e+09\n",
       "2        1.648172e+09\n",
       "3        1.648171e+09\n",
       "4        1.648170e+09\n",
       "             ...     \n",
       "34540    1.629161e+09\n",
       "34541    1.629160e+09\n",
       "34542    1.629160e+09\n",
       "34543    1.629159e+09\n",
       "34544    1.629158e+09\n",
       "Name: 获取时间, Length: 96254, dtype: float64"
      ]
     },
     "execution_count": 25,
     "metadata": {},
     "output_type": "execute_result"
    }
   ],
   "execution_count": 25
  },
  {
   "cell_type": "markdown",
   "id": "e4e0265a",
   "metadata": {},
   "source": [
    "#### 时间设为单调递增"
   ]
  },
  {
   "cell_type": "code",
   "id": "3995e44d",
   "metadata": {
    "ExecuteTime": {
     "end_time": "2024-09-02T03:10:23.504755Z",
     "start_time": "2024-09-02T03:10:23.500755Z"
    }
   },
   "source": [
    "list(label_df_target.keys())"
   ],
   "outputs": [
    {
     "data": {
      "text/plain": [
       "['站位编号', '获取时间', '经度', '纬度', '平均风速', '平均风向', '平均风速_10m']"
      ]
     },
     "execution_count": 26,
     "metadata": {},
     "output_type": "execute_result"
    }
   ],
   "execution_count": 26
  },
  {
   "cell_type": "code",
   "id": "81a466ef",
   "metadata": {
    "ExecuteTime": {
     "end_time": "2024-09-02T03:10:32.274200Z",
     "start_time": "2024-09-02T03:10:32.252318Z"
    }
   },
   "source": [
    "label_df_target = label_df_target.groupby('站位编号').apply(lambda x: x.sort_values('获取时间'))"
   ],
   "outputs": [
    {
     "name": "stderr",
     "output_type": "stream",
     "text": [
      "C:\\Users\\admin\\AppData\\Local\\Temp\\ipykernel_13144\\225011064.py:1: DeprecationWarning: DataFrameGroupBy.apply operated on the grouping columns. This behavior is deprecated, and in a future version of pandas the grouping columns will be excluded from the operation. Either pass `include_groups=False` to exclude the groupings or explicitly select the grouping columns after groupby to silence this warning.\n",
      "  label_df_target = label_df_target.groupby('站位编号').apply(lambda x: x.sort_values('获取时间'))\n"
     ]
    }
   ],
   "execution_count": 27
  },
  {
   "cell_type": "code",
   "id": "fb32e71d",
   "metadata": {
    "ExecuteTime": {
     "end_time": "2024-09-02T03:12:07.582716Z",
     "start_time": "2024-09-02T03:12:07.571819Z"
    }
   },
   "source": [
    "label_df_target"
   ],
   "outputs": [
    {
     "data": {
      "text/plain": [
       "            站位编号          获取时间         经度        纬度  平均风速   平均风向  平均风速_10m\n",
       "站位编号                                                                      \n",
       "0    22260     0  1.630541e+09  113.45481  21.56127   4.8    0.3  5.693471\n",
       "     22259     0  1.630542e+09  113.45481  21.56127   4.9  108.9  5.812085\n",
       "     22258     0  1.630543e+09  113.45481  21.56127   4.7   73.1  5.574857\n",
       "     22257     0  1.630543e+09  113.45481  21.56127   4.5  157.1  5.337629\n",
       "     22256     0  1.630544e+09  113.45481  21.56127   5.2   52.5  6.167927\n",
       "...          ...           ...        ...       ...   ...    ...       ...\n",
       "3    4         3  1.651366e+09  113.77972  20.87623   NaN  121.5       NaN\n",
       "     3         3  1.651366e+09  113.77972  20.87623   NaN  121.5       NaN\n",
       "     2         3  1.651367e+09  113.77972  20.87623   NaN  121.5       NaN\n",
       "     1         3  1.651369e+09  113.77972  20.87623   NaN  121.5       NaN\n",
       "     0         3  1.651370e+09  113.77972  20.87623   NaN  121.5       NaN\n",
       "\n",
       "[96254 rows x 7 columns]"
      ],
      "text/html": [
       "<div>\n",
       "<style scoped>\n",
       "    .dataframe tbody tr th:only-of-type {\n",
       "        vertical-align: middle;\n",
       "    }\n",
       "\n",
       "    .dataframe tbody tr th {\n",
       "        vertical-align: top;\n",
       "    }\n",
       "\n",
       "    .dataframe thead th {\n",
       "        text-align: right;\n",
       "    }\n",
       "</style>\n",
       "<table border=\"1\" class=\"dataframe\">\n",
       "  <thead>\n",
       "    <tr style=\"text-align: right;\">\n",
       "      <th></th>\n",
       "      <th></th>\n",
       "      <th>站位编号</th>\n",
       "      <th>获取时间</th>\n",
       "      <th>经度</th>\n",
       "      <th>纬度</th>\n",
       "      <th>平均风速</th>\n",
       "      <th>平均风向</th>\n",
       "      <th>平均风速_10m</th>\n",
       "    </tr>\n",
       "    <tr>\n",
       "      <th>站位编号</th>\n",
       "      <th></th>\n",
       "      <th></th>\n",
       "      <th></th>\n",
       "      <th></th>\n",
       "      <th></th>\n",
       "      <th></th>\n",
       "      <th></th>\n",
       "      <th></th>\n",
       "    </tr>\n",
       "  </thead>\n",
       "  <tbody>\n",
       "    <tr>\n",
       "      <th rowspan=\"5\" valign=\"top\">0</th>\n",
       "      <th>22260</th>\n",
       "      <td>0</td>\n",
       "      <td>1.630541e+09</td>\n",
       "      <td>113.45481</td>\n",
       "      <td>21.56127</td>\n",
       "      <td>4.8</td>\n",
       "      <td>0.3</td>\n",
       "      <td>5.693471</td>\n",
       "    </tr>\n",
       "    <tr>\n",
       "      <th>22259</th>\n",
       "      <td>0</td>\n",
       "      <td>1.630542e+09</td>\n",
       "      <td>113.45481</td>\n",
       "      <td>21.56127</td>\n",
       "      <td>4.9</td>\n",
       "      <td>108.9</td>\n",
       "      <td>5.812085</td>\n",
       "    </tr>\n",
       "    <tr>\n",
       "      <th>22258</th>\n",
       "      <td>0</td>\n",
       "      <td>1.630543e+09</td>\n",
       "      <td>113.45481</td>\n",
       "      <td>21.56127</td>\n",
       "      <td>4.7</td>\n",
       "      <td>73.1</td>\n",
       "      <td>5.574857</td>\n",
       "    </tr>\n",
       "    <tr>\n",
       "      <th>22257</th>\n",
       "      <td>0</td>\n",
       "      <td>1.630543e+09</td>\n",
       "      <td>113.45481</td>\n",
       "      <td>21.56127</td>\n",
       "      <td>4.5</td>\n",
       "      <td>157.1</td>\n",
       "      <td>5.337629</td>\n",
       "    </tr>\n",
       "    <tr>\n",
       "      <th>22256</th>\n",
       "      <td>0</td>\n",
       "      <td>1.630544e+09</td>\n",
       "      <td>113.45481</td>\n",
       "      <td>21.56127</td>\n",
       "      <td>5.2</td>\n",
       "      <td>52.5</td>\n",
       "      <td>6.167927</td>\n",
       "    </tr>\n",
       "    <tr>\n",
       "      <th>...</th>\n",
       "      <th>...</th>\n",
       "      <td>...</td>\n",
       "      <td>...</td>\n",
       "      <td>...</td>\n",
       "      <td>...</td>\n",
       "      <td>...</td>\n",
       "      <td>...</td>\n",
       "      <td>...</td>\n",
       "    </tr>\n",
       "    <tr>\n",
       "      <th rowspan=\"5\" valign=\"top\">3</th>\n",
       "      <th>4</th>\n",
       "      <td>3</td>\n",
       "      <td>1.651366e+09</td>\n",
       "      <td>113.77972</td>\n",
       "      <td>20.87623</td>\n",
       "      <td>NaN</td>\n",
       "      <td>121.5</td>\n",
       "      <td>NaN</td>\n",
       "    </tr>\n",
       "    <tr>\n",
       "      <th>3</th>\n",
       "      <td>3</td>\n",
       "      <td>1.651366e+09</td>\n",
       "      <td>113.77972</td>\n",
       "      <td>20.87623</td>\n",
       "      <td>NaN</td>\n",
       "      <td>121.5</td>\n",
       "      <td>NaN</td>\n",
       "    </tr>\n",
       "    <tr>\n",
       "      <th>2</th>\n",
       "      <td>3</td>\n",
       "      <td>1.651367e+09</td>\n",
       "      <td>113.77972</td>\n",
       "      <td>20.87623</td>\n",
       "      <td>NaN</td>\n",
       "      <td>121.5</td>\n",
       "      <td>NaN</td>\n",
       "    </tr>\n",
       "    <tr>\n",
       "      <th>1</th>\n",
       "      <td>3</td>\n",
       "      <td>1.651369e+09</td>\n",
       "      <td>113.77972</td>\n",
       "      <td>20.87623</td>\n",
       "      <td>NaN</td>\n",
       "      <td>121.5</td>\n",
       "      <td>NaN</td>\n",
       "    </tr>\n",
       "    <tr>\n",
       "      <th>0</th>\n",
       "      <td>3</td>\n",
       "      <td>1.651370e+09</td>\n",
       "      <td>113.77972</td>\n",
       "      <td>20.87623</td>\n",
       "      <td>NaN</td>\n",
       "      <td>121.5</td>\n",
       "      <td>NaN</td>\n",
       "    </tr>\n",
       "  </tbody>\n",
       "</table>\n",
       "<p>96254 rows × 7 columns</p>\n",
       "</div>"
      ]
     },
     "execution_count": 28,
     "metadata": {},
     "output_type": "execute_result"
    }
   ],
   "execution_count": 28
  },
  {
   "cell_type": "code",
   "id": "be1cede3",
   "metadata": {
    "ExecuteTime": {
     "end_time": "2024-09-02T03:12:12.174200Z",
     "start_time": "2024-09-02T03:12:12.164576Z"
    }
   },
   "source": [
    "# 重置索引\n",
    "df_target = label_df_target.reset_index(drop=True)"
   ],
   "outputs": [],
   "execution_count": 29
  },
  {
   "cell_type": "code",
   "id": "259a146c",
   "metadata": {
    "ExecuteTime": {
     "end_time": "2024-09-02T03:12:12.604273Z",
     "start_time": "2024-09-02T03:12:12.593643Z"
    }
   },
   "source": [
    "df_target"
   ],
   "outputs": [
    {
     "data": {
      "text/plain": [
       "       站位编号          获取时间         经度        纬度  平均风速   平均风向  平均风速_10m\n",
       "0         0  1.630541e+09  113.45481  21.56127   4.8    0.3  5.693471\n",
       "1         0  1.630542e+09  113.45481  21.56127   4.9  108.9  5.812085\n",
       "2         0  1.630543e+09  113.45481  21.56127   4.7   73.1  5.574857\n",
       "3         0  1.630543e+09  113.45481  21.56127   4.5  157.1  5.337629\n",
       "4         0  1.630544e+09  113.45481  21.56127   5.2   52.5  6.167927\n",
       "...     ...           ...        ...       ...   ...    ...       ...\n",
       "96249     3  1.651366e+09  113.77972  20.87623   NaN  121.5       NaN\n",
       "96250     3  1.651366e+09  113.77972  20.87623   NaN  121.5       NaN\n",
       "96251     3  1.651367e+09  113.77972  20.87623   NaN  121.5       NaN\n",
       "96252     3  1.651369e+09  113.77972  20.87623   NaN  121.5       NaN\n",
       "96253     3  1.651370e+09  113.77972  20.87623   NaN  121.5       NaN\n",
       "\n",
       "[96254 rows x 7 columns]"
      ],
      "text/html": [
       "<div>\n",
       "<style scoped>\n",
       "    .dataframe tbody tr th:only-of-type {\n",
       "        vertical-align: middle;\n",
       "    }\n",
       "\n",
       "    .dataframe tbody tr th {\n",
       "        vertical-align: top;\n",
       "    }\n",
       "\n",
       "    .dataframe thead th {\n",
       "        text-align: right;\n",
       "    }\n",
       "</style>\n",
       "<table border=\"1\" class=\"dataframe\">\n",
       "  <thead>\n",
       "    <tr style=\"text-align: right;\">\n",
       "      <th></th>\n",
       "      <th>站位编号</th>\n",
       "      <th>获取时间</th>\n",
       "      <th>经度</th>\n",
       "      <th>纬度</th>\n",
       "      <th>平均风速</th>\n",
       "      <th>平均风向</th>\n",
       "      <th>平均风速_10m</th>\n",
       "    </tr>\n",
       "  </thead>\n",
       "  <tbody>\n",
       "    <tr>\n",
       "      <th>0</th>\n",
       "      <td>0</td>\n",
       "      <td>1.630541e+09</td>\n",
       "      <td>113.45481</td>\n",
       "      <td>21.56127</td>\n",
       "      <td>4.8</td>\n",
       "      <td>0.3</td>\n",
       "      <td>5.693471</td>\n",
       "    </tr>\n",
       "    <tr>\n",
       "      <th>1</th>\n",
       "      <td>0</td>\n",
       "      <td>1.630542e+09</td>\n",
       "      <td>113.45481</td>\n",
       "      <td>21.56127</td>\n",
       "      <td>4.9</td>\n",
       "      <td>108.9</td>\n",
       "      <td>5.812085</td>\n",
       "    </tr>\n",
       "    <tr>\n",
       "      <th>2</th>\n",
       "      <td>0</td>\n",
       "      <td>1.630543e+09</td>\n",
       "      <td>113.45481</td>\n",
       "      <td>21.56127</td>\n",
       "      <td>4.7</td>\n",
       "      <td>73.1</td>\n",
       "      <td>5.574857</td>\n",
       "    </tr>\n",
       "    <tr>\n",
       "      <th>3</th>\n",
       "      <td>0</td>\n",
       "      <td>1.630543e+09</td>\n",
       "      <td>113.45481</td>\n",
       "      <td>21.56127</td>\n",
       "      <td>4.5</td>\n",
       "      <td>157.1</td>\n",
       "      <td>5.337629</td>\n",
       "    </tr>\n",
       "    <tr>\n",
       "      <th>4</th>\n",
       "      <td>0</td>\n",
       "      <td>1.630544e+09</td>\n",
       "      <td>113.45481</td>\n",
       "      <td>21.56127</td>\n",
       "      <td>5.2</td>\n",
       "      <td>52.5</td>\n",
       "      <td>6.167927</td>\n",
       "    </tr>\n",
       "    <tr>\n",
       "      <th>...</th>\n",
       "      <td>...</td>\n",
       "      <td>...</td>\n",
       "      <td>...</td>\n",
       "      <td>...</td>\n",
       "      <td>...</td>\n",
       "      <td>...</td>\n",
       "      <td>...</td>\n",
       "    </tr>\n",
       "    <tr>\n",
       "      <th>96249</th>\n",
       "      <td>3</td>\n",
       "      <td>1.651366e+09</td>\n",
       "      <td>113.77972</td>\n",
       "      <td>20.87623</td>\n",
       "      <td>NaN</td>\n",
       "      <td>121.5</td>\n",
       "      <td>NaN</td>\n",
       "    </tr>\n",
       "    <tr>\n",
       "      <th>96250</th>\n",
       "      <td>3</td>\n",
       "      <td>1.651366e+09</td>\n",
       "      <td>113.77972</td>\n",
       "      <td>20.87623</td>\n",
       "      <td>NaN</td>\n",
       "      <td>121.5</td>\n",
       "      <td>NaN</td>\n",
       "    </tr>\n",
       "    <tr>\n",
       "      <th>96251</th>\n",
       "      <td>3</td>\n",
       "      <td>1.651367e+09</td>\n",
       "      <td>113.77972</td>\n",
       "      <td>20.87623</td>\n",
       "      <td>NaN</td>\n",
       "      <td>121.5</td>\n",
       "      <td>NaN</td>\n",
       "    </tr>\n",
       "    <tr>\n",
       "      <th>96252</th>\n",
       "      <td>3</td>\n",
       "      <td>1.651369e+09</td>\n",
       "      <td>113.77972</td>\n",
       "      <td>20.87623</td>\n",
       "      <td>NaN</td>\n",
       "      <td>121.5</td>\n",
       "      <td>NaN</td>\n",
       "    </tr>\n",
       "    <tr>\n",
       "      <th>96253</th>\n",
       "      <td>3</td>\n",
       "      <td>1.651370e+09</td>\n",
       "      <td>113.77972</td>\n",
       "      <td>20.87623</td>\n",
       "      <td>NaN</td>\n",
       "      <td>121.5</td>\n",
       "      <td>NaN</td>\n",
       "    </tr>\n",
       "  </tbody>\n",
       "</table>\n",
       "<p>96254 rows × 7 columns</p>\n",
       "</div>"
      ]
     },
     "execution_count": 30,
     "metadata": {},
     "output_type": "execute_result"
    }
   ],
   "execution_count": 30
  },
  {
   "cell_type": "markdown",
   "id": "7ecb0b05",
   "metadata": {},
   "source": [
    "## 剔除Lable中平均风速为NaN的值"
   ]
  },
  {
   "cell_type": "code",
   "id": "79daa0e9",
   "metadata": {
    "ExecuteTime": {
     "end_time": "2024-09-02T03:12:26.467793Z",
     "start_time": "2024-09-02T03:12:26.462787Z"
    }
   },
   "source": [
    "# 平均风速为NaN的索引\n",
    "null_indices = df_target[df_target['平均风速_10m'].isnull()].index"
   ],
   "outputs": [],
   "execution_count": 31
  },
  {
   "cell_type": "code",
   "id": "b6eb333c",
   "metadata": {
    "ExecuteTime": {
     "end_time": "2024-09-02T03:12:30.467143Z",
     "start_time": "2024-09-02T03:12:30.460014Z"
    }
   },
   "source": [
    "# 剔除平均风速中为NaN的行\n",
    "df = df_target.drop(null_indices, axis=0)"
   ],
   "outputs": [],
   "execution_count": 32
  },
  {
   "cell_type": "code",
   "id": "ec131573",
   "metadata": {
    "ExecuteTime": {
     "end_time": "2024-09-02T03:12:31.466755Z",
     "start_time": "2024-09-02T03:12:31.463226Z"
    }
   },
   "source": [
    "# 重置索引\n",
    "df_target = df.reset_index(drop=True)"
   ],
   "outputs": [],
   "execution_count": 33
  },
  {
   "cell_type": "code",
   "id": "62c4f975",
   "metadata": {
    "ExecuteTime": {
     "end_time": "2024-09-02T03:12:31.781802Z",
     "start_time": "2024-09-02T03:12:31.771497Z"
    }
   },
   "source": [
    "df_target"
   ],
   "outputs": [
    {
     "data": {
      "text/plain": [
       "       站位编号          获取时间         经度        纬度   平均风速   平均风向   平均风速_10m\n",
       "0         0  1.630541e+09  113.45481  21.56127   4.80    0.3   5.693471\n",
       "1         0  1.630542e+09  113.45481  21.56127   4.90  108.9   5.812085\n",
       "2         0  1.630543e+09  113.45481  21.56127   4.70   73.1   5.574857\n",
       "3         0  1.630543e+09  113.45481  21.56127   4.50  157.1   5.337629\n",
       "4         0  1.630544e+09  113.45481  21.56127   5.20   52.5   6.167927\n",
       "...     ...           ...        ...       ...    ...    ...        ...\n",
       "70073     3  1.641001e+09  113.77757  20.87745   0.00  133.5   0.000000\n",
       "70074     3  1.641002e+09  113.77757  20.87745   0.00  121.5   0.000000\n",
       "70075     3  1.641239e+09  113.77650  20.87868  36.72  121.5  43.555052\n",
       "70076     3  1.646503e+09  113.78186  20.87623  30.18  121.5  35.797698\n",
       "70077     3  1.647779e+09  113.78186  20.87623  59.31  121.5  70.349950\n",
       "\n",
       "[70078 rows x 7 columns]"
      ],
      "text/html": [
       "<div>\n",
       "<style scoped>\n",
       "    .dataframe tbody tr th:only-of-type {\n",
       "        vertical-align: middle;\n",
       "    }\n",
       "\n",
       "    .dataframe tbody tr th {\n",
       "        vertical-align: top;\n",
       "    }\n",
       "\n",
       "    .dataframe thead th {\n",
       "        text-align: right;\n",
       "    }\n",
       "</style>\n",
       "<table border=\"1\" class=\"dataframe\">\n",
       "  <thead>\n",
       "    <tr style=\"text-align: right;\">\n",
       "      <th></th>\n",
       "      <th>站位编号</th>\n",
       "      <th>获取时间</th>\n",
       "      <th>经度</th>\n",
       "      <th>纬度</th>\n",
       "      <th>平均风速</th>\n",
       "      <th>平均风向</th>\n",
       "      <th>平均风速_10m</th>\n",
       "    </tr>\n",
       "  </thead>\n",
       "  <tbody>\n",
       "    <tr>\n",
       "      <th>0</th>\n",
       "      <td>0</td>\n",
       "      <td>1.630541e+09</td>\n",
       "      <td>113.45481</td>\n",
       "      <td>21.56127</td>\n",
       "      <td>4.80</td>\n",
       "      <td>0.3</td>\n",
       "      <td>5.693471</td>\n",
       "    </tr>\n",
       "    <tr>\n",
       "      <th>1</th>\n",
       "      <td>0</td>\n",
       "      <td>1.630542e+09</td>\n",
       "      <td>113.45481</td>\n",
       "      <td>21.56127</td>\n",
       "      <td>4.90</td>\n",
       "      <td>108.9</td>\n",
       "      <td>5.812085</td>\n",
       "    </tr>\n",
       "    <tr>\n",
       "      <th>2</th>\n",
       "      <td>0</td>\n",
       "      <td>1.630543e+09</td>\n",
       "      <td>113.45481</td>\n",
       "      <td>21.56127</td>\n",
       "      <td>4.70</td>\n",
       "      <td>73.1</td>\n",
       "      <td>5.574857</td>\n",
       "    </tr>\n",
       "    <tr>\n",
       "      <th>3</th>\n",
       "      <td>0</td>\n",
       "      <td>1.630543e+09</td>\n",
       "      <td>113.45481</td>\n",
       "      <td>21.56127</td>\n",
       "      <td>4.50</td>\n",
       "      <td>157.1</td>\n",
       "      <td>5.337629</td>\n",
       "    </tr>\n",
       "    <tr>\n",
       "      <th>4</th>\n",
       "      <td>0</td>\n",
       "      <td>1.630544e+09</td>\n",
       "      <td>113.45481</td>\n",
       "      <td>21.56127</td>\n",
       "      <td>5.20</td>\n",
       "      <td>52.5</td>\n",
       "      <td>6.167927</td>\n",
       "    </tr>\n",
       "    <tr>\n",
       "      <th>...</th>\n",
       "      <td>...</td>\n",
       "      <td>...</td>\n",
       "      <td>...</td>\n",
       "      <td>...</td>\n",
       "      <td>...</td>\n",
       "      <td>...</td>\n",
       "      <td>...</td>\n",
       "    </tr>\n",
       "    <tr>\n",
       "      <th>70073</th>\n",
       "      <td>3</td>\n",
       "      <td>1.641001e+09</td>\n",
       "      <td>113.77757</td>\n",
       "      <td>20.87745</td>\n",
       "      <td>0.00</td>\n",
       "      <td>133.5</td>\n",
       "      <td>0.000000</td>\n",
       "    </tr>\n",
       "    <tr>\n",
       "      <th>70074</th>\n",
       "      <td>3</td>\n",
       "      <td>1.641002e+09</td>\n",
       "      <td>113.77757</td>\n",
       "      <td>20.87745</td>\n",
       "      <td>0.00</td>\n",
       "      <td>121.5</td>\n",
       "      <td>0.000000</td>\n",
       "    </tr>\n",
       "    <tr>\n",
       "      <th>70075</th>\n",
       "      <td>3</td>\n",
       "      <td>1.641239e+09</td>\n",
       "      <td>113.77650</td>\n",
       "      <td>20.87868</td>\n",
       "      <td>36.72</td>\n",
       "      <td>121.5</td>\n",
       "      <td>43.555052</td>\n",
       "    </tr>\n",
       "    <tr>\n",
       "      <th>70076</th>\n",
       "      <td>3</td>\n",
       "      <td>1.646503e+09</td>\n",
       "      <td>113.78186</td>\n",
       "      <td>20.87623</td>\n",
       "      <td>30.18</td>\n",
       "      <td>121.5</td>\n",
       "      <td>35.797698</td>\n",
       "    </tr>\n",
       "    <tr>\n",
       "      <th>70077</th>\n",
       "      <td>3</td>\n",
       "      <td>1.647779e+09</td>\n",
       "      <td>113.78186</td>\n",
       "      <td>20.87623</td>\n",
       "      <td>59.31</td>\n",
       "      <td>121.5</td>\n",
       "      <td>70.349950</td>\n",
       "    </tr>\n",
       "  </tbody>\n",
       "</table>\n",
       "<p>70078 rows × 7 columns</p>\n",
       "</div>"
      ]
     },
     "execution_count": 34,
     "metadata": {},
     "output_type": "execute_result"
    }
   ],
   "execution_count": 34
  },
  {
   "cell_type": "markdown",
   "id": "7e286c00",
   "metadata": {},
   "source": [
    "## 保存统一时间戳后的原始Feature、Label数据"
   ]
  },
  {
   "cell_type": "code",
   "id": "3a6a9dfe",
   "metadata": {
    "ExecuteTime": {
     "end_time": "2024-09-02T03:12:50.385874Z",
     "start_time": "2024-09-02T03:12:46.029439Z"
    }
   },
   "source": [
    "## 保存WRF数据\n",
    "with open('../data/wrf_dataset_init', 'wb') as f:\n",
    "    pickle.dump(dict_wrf , f)"
   ],
   "outputs": [],
   "execution_count": 35
  },
  {
   "cell_type": "code",
   "id": "3ca912ab",
   "metadata": {
    "ExecuteTime": {
     "end_time": "2024-09-02T03:12:50.390492Z",
     "start_time": "2024-09-02T03:12:50.385874Z"
    }
   },
   "source": [
    "## 保存Label数据\n",
    "with open('../data/real_dataset_init', 'wb') as f:\n",
    "    pickle.dump(df_target , f)"
   ],
   "outputs": [],
   "execution_count": 36
  },
  {
   "cell_type": "markdown",
   "id": "b064bc97",
   "metadata": {},
   "source": [
    "## 异常值处理"
   ]
  },
  {
   "cell_type": "markdown",
   "id": "964c141d",
   "metadata": {},
   "source": [
    "#### 加载数据"
   ]
  },
  {
   "cell_type": "code",
   "id": "70dd4b8c",
   "metadata": {
    "ExecuteTime": {
     "end_time": "2024-09-02T03:12:56.829014Z",
     "start_time": "2024-09-02T03:12:55.304713Z"
    }
   },
   "source": [
    "## 读取WRF数据\n",
    "with open('../data/wrf_dataset_init', 'rb') as f:\n",
    "    wrf_init = pickle.load(f)"
   ],
   "outputs": [],
   "execution_count": 37
  },
  {
   "cell_type": "code",
   "id": "3f725c73",
   "metadata": {
    "ExecuteTime": {
     "end_time": "2024-09-02T03:12:59.022452Z",
     "start_time": "2024-09-02T03:12:59.018121Z"
    }
   },
   "source": [
    "wrf_init.keys()"
   ],
   "outputs": [
    {
     "data": {
      "text/plain": [
       "dict_keys(['time', 'u10', 'v10', 'rh2', 't2', 'slp', 'lon', 'lat', 'velocity', 'degree'])"
      ]
     },
     "execution_count": 38,
     "metadata": {},
     "output_type": "execute_result"
    }
   ],
   "execution_count": 38
  },
  {
   "cell_type": "code",
   "id": "0dd25f43",
   "metadata": {
    "ExecuteTime": {
     "end_time": "2024-09-02T03:13:06.082362Z",
     "start_time": "2024-09-02T03:13:06.077471Z"
    }
   },
   "source": [
    "## 读取Lable数据\n",
    "with open('../data/real_dataset_init', 'rb') as f:\n",
    "    real_init = pickle.load(f)"
   ],
   "outputs": [],
   "execution_count": 39
  },
  {
   "cell_type": "code",
   "id": "d27e724e",
   "metadata": {
    "ExecuteTime": {
     "end_time": "2024-09-02T03:13:06.575366Z",
     "start_time": "2024-09-02T03:13:06.572356Z"
    }
   },
   "source": [
    "real_init.keys()"
   ],
   "outputs": [
    {
     "data": {
      "text/plain": [
       "Index(['站位编号', '获取时间', '经度', '纬度', '平均风速', '平均风向', '平均风速_10m'], dtype='object')"
      ]
     },
     "execution_count": 40,
     "metadata": {},
     "output_type": "execute_result"
    }
   ],
   "execution_count": 40
  },
  {
   "cell_type": "markdown",
   "id": "9c65331a",
   "metadata": {},
   "source": [
    "#### 检查real10m平均风速范围是否在[0,75]"
   ]
  },
  {
   "cell_type": "code",
   "id": "719260c9",
   "metadata": {
    "ExecuteTime": {
     "end_time": "2024-09-02T03:13:10.134310Z",
     "start_time": "2024-09-02T03:13:10.130523Z"
    }
   },
   "source": [
    "real_velocity = real_init['平均风速_10m']\n",
    "real_velocity.dtype"
   ],
   "outputs": [
    {
     "data": {
      "text/plain": [
       "dtype('float64')"
      ]
     },
     "execution_count": 41,
     "metadata": {},
     "output_type": "execute_result"
    }
   ],
   "execution_count": 41
  },
  {
   "cell_type": "code",
   "id": "a32f8ded",
   "metadata": {
    "ExecuteTime": {
     "end_time": "2024-09-02T03:20:52.002018Z",
     "start_time": "2024-09-02T03:20:51.996299Z"
    }
   },
   "source": [
    "# 检查所有数值是否都在0到75范围内\n",
    "range_V = (real_velocity >= 0) & (real_velocity <= 75*k)#75为海面数据，转为10米风速\n",
    "if range_V.all():\n",
    "    print(\"所有数据都在0到75之间\")\n",
    "else:\n",
    "    print(\"存在不在0到75范围内的数据\")\n",
    "\n",
    "# 打印不在范围内的索引\n",
    "out_of_range_indices = real_velocity[(real_velocity > 75) | (real_velocity < 0)].index\n",
    "out_of_range_indices"
   ],
   "outputs": [
    {
     "name": "stdout",
     "output_type": "stream",
     "text": [
      "所有数据都在0到75之间\n"
     ]
    },
    {
     "data": {
      "text/plain": [
       "Index([], dtype='int64')"
      ]
     },
     "execution_count": 43,
     "metadata": {},
     "output_type": "execute_result"
    }
   ],
   "execution_count": 43
  },
  {
   "cell_type": "markdown",
   "id": "a21c9d11",
   "metadata": {},
   "source": [
    "#### 检查real平均风向范围是否在[0,360)"
   ]
  },
  {
   "cell_type": "code",
   "id": "1239bbba",
   "metadata": {
    "ExecuteTime": {
     "end_time": "2024-09-02T03:20:56.117270Z",
     "start_time": "2024-09-02T03:20:56.113270Z"
    }
   },
   "source": [
    "real_degree = real_init['平均风向']\n",
    "real_degree.dtype"
   ],
   "outputs": [
    {
     "data": {
      "text/plain": [
       "dtype('float64')"
      ]
     },
     "execution_count": 44,
     "metadata": {},
     "output_type": "execute_result"
    }
   ],
   "execution_count": 44
  },
  {
   "cell_type": "code",
   "id": "f0979bac",
   "metadata": {
    "ExecuteTime": {
     "end_time": "2024-09-02T03:20:59.660960Z",
     "start_time": "2024-09-02T03:20:59.656058Z"
    }
   },
   "source": [
    "# 找出非NaN值且不在0到360度范围内的索引及其对应值\n",
    "out_of_range_indices_and_values = real_degree[(np.isfinite(real_degree)) & ((real_degree > 360) | (real_degree < 0))]\n",
    "#print(\"不在0到360度范围内的索引及对应值：\", out_of_range_indices_and_values)\n",
    "\n",
    "# 索引\n",
    "out_of_range_indices = out_of_range_indices_and_values.index\n",
    "print(\"不在0到360度范围内的索引：\", out_of_range_indices)"
   ],
   "outputs": [
    {
     "name": "stdout",
     "output_type": "stream",
     "text": [
      "不在0到360度范围内的索引： Index([], dtype='int64')\n"
     ]
    }
   ],
   "execution_count": 45
  },
  {
   "cell_type": "markdown",
   "id": "4d4ea83f",
   "metadata": {},
   "source": [
    "#### real10m平均风速的时间一致性检验---20"
   ]
  },
  {
   "cell_type": "code",
   "id": "19d37856",
   "metadata": {
    "ExecuteTime": {
     "end_time": "2024-09-02T03:21:06.715912Z",
     "start_time": "2024-09-02T03:21:06.712071Z"
    }
   },
   "source": [
    "# 加载数据\n",
    "real_velocity = real_init['平均风速_10m'].values\n",
    "real_velocity.shape"
   ],
   "outputs": [
    {
     "data": {
      "text/plain": [
       "(70078,)"
      ]
     },
     "execution_count": 46,
     "metadata": {},
     "output_type": "execute_result"
    }
   ],
   "execution_count": 46
  },
  {
   "cell_type": "code",
   "id": "aa3f70ee",
   "metadata": {
    "ExecuteTime": {
     "end_time": "2024-09-02T03:22:43.661718Z",
     "start_time": "2024-09-02T03:22:43.655714Z"
    }
   },
   "source": [
    "def quality_control(data, H):\n",
    "    # 初始化结果列表，用于存放不满足条件的数据序列\n",
    "    non_conforming_sequences = []\n",
    "    # 遍历一维数据及其对应的序列号，检查相邻元素差值\n",
    "    for i in range(len(data) - 1):\n",
    "        difference = abs(data[i] - data[i + 1])\n",
    "        # 如果差值大于阈值，则将序列号加入结果列表\n",
    "        if difference > H:\n",
    "            non_conforming_sequences.append(i+1)\n",
    "    return  non_conforming_sequences"
   ],
   "outputs": [],
   "execution_count": 47
  },
  {
   "cell_type": "code",
   "id": "6047173b",
   "metadata": {
    "ExecuteTime": {
     "end_time": "2024-09-02T03:23:17.081211Z",
     "start_time": "2024-09-02T03:23:17.059210Z"
    }
   },
   "source": [
    "# 设置阈值H\n",
    "H = 20  \n",
    "# V\n",
    "problematic_sequences_V = quality_control(real_velocity, H)\n",
    "problematic_sequences_V"
   ],
   "outputs": [
    {
     "data": {
      "text/plain": [
       "[5740,\n",
       " 14704,\n",
       " 14705,\n",
       " 20513,\n",
       " 20514,\n",
       " 20998,\n",
       " 20999,\n",
       " 24278,\n",
       " 24279,\n",
       " 32226,\n",
       " 32227,\n",
       " 45392,\n",
       " 45393,\n",
       " 70075,\n",
       " 70077]"
      ]
     },
     "execution_count": 48,
     "metadata": {},
     "output_type": "execute_result"
    }
   ],
   "execution_count": 48
  },
  {
   "cell_type": "code",
   "id": "fe47e8f4",
   "metadata": {
    "ExecuteTime": {
     "end_time": "2024-09-02T03:23:20.820481Z",
     "start_time": "2024-09-02T03:23:20.815724Z"
    }
   },
   "source": [
    "real_init.shape"
   ],
   "outputs": [
    {
     "data": {
      "text/plain": [
       "(70078, 7)"
      ]
     },
     "execution_count": 49,
     "metadata": {},
     "output_type": "execute_result"
    }
   ],
   "execution_count": 49
  },
  {
   "cell_type": "code",
   "id": "7fd9809d",
   "metadata": {
    "ExecuteTime": {
     "end_time": "2024-09-02T03:23:30.848910Z",
     "start_time": "2024-09-02T03:23:30.842910Z"
    }
   },
   "source": [
    "# 剔除原始real数据中不符合要求的值\n",
    "real_target = real_init.drop(problematic_sequences_V)"
   ],
   "outputs": [],
   "execution_count": 50
  },
  {
   "cell_type": "code",
   "id": "e8fcd87b",
   "metadata": {
    "ExecuteTime": {
     "end_time": "2024-09-02T03:23:32.485805Z",
     "start_time": "2024-09-02T03:23:32.481336Z"
    }
   },
   "source": [
    "real_target.shape"
   ],
   "outputs": [
    {
     "data": {
      "text/plain": [
       "(70063, 7)"
      ]
     },
     "execution_count": 51,
     "metadata": {},
     "output_type": "execute_result"
    }
   ],
   "execution_count": 51
  },
  {
   "cell_type": "code",
   "id": "7af03938",
   "metadata": {
    "ExecuteTime": {
     "end_time": "2024-09-02T03:23:36.867500Z",
     "start_time": "2024-09-02T03:23:36.863500Z"
    }
   },
   "source": [
    "# 重置索引\n",
    "real_target = real_target.reset_index(drop=True)"
   ],
   "outputs": [],
   "execution_count": 52
  },
  {
   "cell_type": "markdown",
   "id": "298a86f2",
   "metadata": {},
   "source": [
    "## 剔除Station03中风速为0的值"
   ]
  },
  {
   "cell_type": "code",
   "id": "3da5a131",
   "metadata": {
    "ExecuteTime": {
     "end_time": "2024-09-02T03:25:29.938900Z",
     "start_time": "2024-09-02T03:25:29.931421Z"
    }
   },
   "source": [
    "# 加载数据\n",
    "df_group = real_target.groupby('站位编号')\n",
    "real_velocity_03 = df_group.get_group(3)['平均风速_10m'].values\n",
    "# 找到0值的索引\n",
    "zero_indices_alternative = np.where(real_velocity_03 == 0)\n",
    "# 将元组转为列表\n",
    "zero_indices = list(zero_indices_alternative)[0]\n",
    "print(zero_indices)\n",
    "print(len(zero_indices))\n",
    "zero_indices_list = list(zero_indices)\n",
    "#print(zero_indices_list)"
   ],
   "outputs": [
    {
     "name": "stdout",
     "output_type": "stream",
     "text": [
      "[ 1296  1306  3838 ... 18584 18585 18586]\n",
      "10801\n"
     ]
    }
   ],
   "execution_count": 53
  },
  {
   "cell_type": "code",
   "id": "d4563ace",
   "metadata": {
    "ExecuteTime": {
     "end_time": "2024-09-02T03:25:38.375594Z",
     "start_time": "2024-09-02T03:25:38.371655Z"
    }
   },
   "source": [
    "def find_continuous_sequences(lst):\n",
    "    result = []\n",
    "    temp_sequence = [lst[0]] if lst else []\n",
    "    for index, value in enumerate(lst[1:], start=1):  # 从索引1开始，避免重复第一个元素\n",
    "        if value == lst[index - 1] + 1:\n",
    "            temp_sequence.append(value)\n",
    "        else:\n",
    "            if temp_sequence:\n",
    "                result.append(temp_sequence)\n",
    "                temp_sequence = [value]\n",
    "    # 处理列表末尾可能存在的连续序列\n",
    "    if temp_sequence:\n",
    "        result.append(temp_sequence)\n",
    "    return result"
   ],
   "outputs": [],
   "execution_count": 54
  },
  {
   "cell_type": "code",
   "id": "d45f8c91",
   "metadata": {
    "ExecuteTime": {
     "end_time": "2024-09-02T03:25:39.160822Z",
     "start_time": "2024-09-02T03:25:39.154188Z"
    }
   },
   "source": [
    "list_all = find_continuous_sequences(zero_indices_list)\n",
    "print(len(list_all))\n",
    "index_drop = list_all[4]\n",
    "len(index_drop)"
   ],
   "outputs": [
    {
     "name": "stdout",
     "output_type": "stream",
     "text": [
      "5\n"
     ]
    },
    {
     "data": {
      "text/plain": [
       "10797"
      ]
     },
     "execution_count": 55,
     "metadata": {},
     "output_type": "execute_result"
    }
   ],
   "execution_count": 55
  },
  {
   "cell_type": "code",
   "id": "84d68bdc",
   "metadata": {
    "ExecuteTime": {
     "end_time": "2024-09-02T03:25:50.162052Z",
     "start_time": "2024-09-02T03:25:50.150691Z"
    }
   },
   "source": [
    "## 剔除[7790,:](index_drop)\n",
    "\n",
    "##选取03站位的表格重新编号并剔除\n",
    "real_03 = df_group.get_group(3)\n",
    "real_03 = real_03.reset_index(drop=True)\n",
    "real_03_target = real_03.drop(index_drop)\n",
    "real_03_target = real_03_target.reset_index(drop=True)\n",
    "\n",
    "##将原表格中的03剔除[51475,70062]\n",
    "real_target_1 = real_target.drop(range(51475, 70063))\n",
    "##将03站位加入表格中并重新排序\n",
    "real_target_end = pd.concat([real_target_1 , real_03_target], axis=0)\n",
    "real_target_end = real_target_end.reset_index(drop=True)"
   ],
   "outputs": [],
   "execution_count": 56
  },
  {
   "cell_type": "code",
   "id": "71bb2c96",
   "metadata": {
    "ExecuteTime": {
     "end_time": "2024-09-02T03:25:50.906072Z",
     "start_time": "2024-09-02T03:25:50.896093Z"
    }
   },
   "source": [
    "real_target_end"
   ],
   "outputs": [
    {
     "data": {
      "text/plain": [
       "       站位编号          获取时间         经度        纬度   平均风速       平均风向   平均风速_10m\n",
       "0         0  1.630541e+09  113.45481  21.56127   4.80    0.30000   5.693471\n",
       "1         0  1.630542e+09  113.45481  21.56127   4.90  108.90000   5.812085\n",
       "2         0  1.630543e+09  113.45481  21.56127   4.70   73.10000   5.574857\n",
       "3         0  1.630543e+09  113.45481  21.56127   4.50  157.10000   5.337629\n",
       "4         0  1.630544e+09  113.45481  21.56127   5.20   52.50000   6.167927\n",
       "...     ...           ...        ...       ...    ...        ...        ...\n",
       "59261     3  1.634357e+09  113.77757  20.87868   8.20  109.50000   9.726346\n",
       "59262     3  1.634358e+09  113.77757  20.87868   7.70  136.00000   9.133276\n",
       "59263     3  1.634359e+09  113.77757  20.87868   8.80   95.79999  10.438030\n",
       "59264     3  1.634359e+09  113.77757  20.87868   9.00   96.70001  10.675258\n",
       "59265     3  1.646503e+09  113.78186  20.87623  30.18  121.50000  35.797698\n",
       "\n",
       "[59266 rows x 7 columns]"
      ],
      "text/html": [
       "<div>\n",
       "<style scoped>\n",
       "    .dataframe tbody tr th:only-of-type {\n",
       "        vertical-align: middle;\n",
       "    }\n",
       "\n",
       "    .dataframe tbody tr th {\n",
       "        vertical-align: top;\n",
       "    }\n",
       "\n",
       "    .dataframe thead th {\n",
       "        text-align: right;\n",
       "    }\n",
       "</style>\n",
       "<table border=\"1\" class=\"dataframe\">\n",
       "  <thead>\n",
       "    <tr style=\"text-align: right;\">\n",
       "      <th></th>\n",
       "      <th>站位编号</th>\n",
       "      <th>获取时间</th>\n",
       "      <th>经度</th>\n",
       "      <th>纬度</th>\n",
       "      <th>平均风速</th>\n",
       "      <th>平均风向</th>\n",
       "      <th>平均风速_10m</th>\n",
       "    </tr>\n",
       "  </thead>\n",
       "  <tbody>\n",
       "    <tr>\n",
       "      <th>0</th>\n",
       "      <td>0</td>\n",
       "      <td>1.630541e+09</td>\n",
       "      <td>113.45481</td>\n",
       "      <td>21.56127</td>\n",
       "      <td>4.80</td>\n",
       "      <td>0.30000</td>\n",
       "      <td>5.693471</td>\n",
       "    </tr>\n",
       "    <tr>\n",
       "      <th>1</th>\n",
       "      <td>0</td>\n",
       "      <td>1.630542e+09</td>\n",
       "      <td>113.45481</td>\n",
       "      <td>21.56127</td>\n",
       "      <td>4.90</td>\n",
       "      <td>108.90000</td>\n",
       "      <td>5.812085</td>\n",
       "    </tr>\n",
       "    <tr>\n",
       "      <th>2</th>\n",
       "      <td>0</td>\n",
       "      <td>1.630543e+09</td>\n",
       "      <td>113.45481</td>\n",
       "      <td>21.56127</td>\n",
       "      <td>4.70</td>\n",
       "      <td>73.10000</td>\n",
       "      <td>5.574857</td>\n",
       "    </tr>\n",
       "    <tr>\n",
       "      <th>3</th>\n",
       "      <td>0</td>\n",
       "      <td>1.630543e+09</td>\n",
       "      <td>113.45481</td>\n",
       "      <td>21.56127</td>\n",
       "      <td>4.50</td>\n",
       "      <td>157.10000</td>\n",
       "      <td>5.337629</td>\n",
       "    </tr>\n",
       "    <tr>\n",
       "      <th>4</th>\n",
       "      <td>0</td>\n",
       "      <td>1.630544e+09</td>\n",
       "      <td>113.45481</td>\n",
       "      <td>21.56127</td>\n",
       "      <td>5.20</td>\n",
       "      <td>52.50000</td>\n",
       "      <td>6.167927</td>\n",
       "    </tr>\n",
       "    <tr>\n",
       "      <th>...</th>\n",
       "      <td>...</td>\n",
       "      <td>...</td>\n",
       "      <td>...</td>\n",
       "      <td>...</td>\n",
       "      <td>...</td>\n",
       "      <td>...</td>\n",
       "      <td>...</td>\n",
       "    </tr>\n",
       "    <tr>\n",
       "      <th>59261</th>\n",
       "      <td>3</td>\n",
       "      <td>1.634357e+09</td>\n",
       "      <td>113.77757</td>\n",
       "      <td>20.87868</td>\n",
       "      <td>8.20</td>\n",
       "      <td>109.50000</td>\n",
       "      <td>9.726346</td>\n",
       "    </tr>\n",
       "    <tr>\n",
       "      <th>59262</th>\n",
       "      <td>3</td>\n",
       "      <td>1.634358e+09</td>\n",
       "      <td>113.77757</td>\n",
       "      <td>20.87868</td>\n",
       "      <td>7.70</td>\n",
       "      <td>136.00000</td>\n",
       "      <td>9.133276</td>\n",
       "    </tr>\n",
       "    <tr>\n",
       "      <th>59263</th>\n",
       "      <td>3</td>\n",
       "      <td>1.634359e+09</td>\n",
       "      <td>113.77757</td>\n",
       "      <td>20.87868</td>\n",
       "      <td>8.80</td>\n",
       "      <td>95.79999</td>\n",
       "      <td>10.438030</td>\n",
       "    </tr>\n",
       "    <tr>\n",
       "      <th>59264</th>\n",
       "      <td>3</td>\n",
       "      <td>1.634359e+09</td>\n",
       "      <td>113.77757</td>\n",
       "      <td>20.87868</td>\n",
       "      <td>9.00</td>\n",
       "      <td>96.70001</td>\n",
       "      <td>10.675258</td>\n",
       "    </tr>\n",
       "    <tr>\n",
       "      <th>59265</th>\n",
       "      <td>3</td>\n",
       "      <td>1.646503e+09</td>\n",
       "      <td>113.78186</td>\n",
       "      <td>20.87623</td>\n",
       "      <td>30.18</td>\n",
       "      <td>121.50000</td>\n",
       "      <td>35.797698</td>\n",
       "    </tr>\n",
       "  </tbody>\n",
       "</table>\n",
       "<p>59266 rows × 7 columns</p>\n",
       "</div>"
      ]
     },
     "execution_count": 57,
     "metadata": {},
     "output_type": "execute_result"
    }
   ],
   "execution_count": 57
  },
  {
   "cell_type": "code",
   "id": "6c99827e",
   "metadata": {
    "ExecuteTime": {
     "end_time": "2024-09-02T03:25:56.638933Z",
     "start_time": "2024-09-02T03:25:56.632912Z"
    }
   },
   "source": [
    "# 保存real数据\n",
    "with open('../data/real_dataset_noabnormal', 'wb') as f:\n",
    "    pickle.dump(real_target_end , f)"
   ],
   "outputs": [],
   "execution_count": 58
  },
  {
   "cell_type": "code",
   "execution_count": null,
   "id": "a2c96e0c",
   "metadata": {},
   "outputs": [],
   "source": []
  }
 ],
 "metadata": {
  "kernelspec": {
   "display_name": "Python 3 (ipykernel)",
   "language": "python",
   "name": "python3"
  },
  "language_info": {
   "codemirror_mode": {
    "name": "ipython",
    "version": 3
   },
   "file_extension": ".py",
   "mimetype": "text/x-python",
   "name": "python",
   "nbconvert_exporter": "python",
   "pygments_lexer": "ipython3",
   "version": "3.12.2"
  }
 },
 "nbformat": 4,
 "nbformat_minor": 5
}
