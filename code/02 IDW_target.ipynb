{
 "cells": [
  {
   "cell_type": "markdown",
   "id": "d3ea6b79",
   "metadata": {},
   "source": "## 导入数据"
  },
  {
   "cell_type": "code",
   "id": "367877d9",
   "metadata": {
    "ExecuteTime": {
     "end_time": "2024-09-02T03:26:03.850649Z",
     "start_time": "2024-09-02T03:26:03.170303Z"
    }
   },
   "source": [
    "import numpy as np\n",
    "import os\n",
    "import pandas as pd\n",
    "import pickle\n",
    "import pandas as pd\n",
    "import numpy as np\n",
    "from scipy.interpolate import Rbf\n",
    "from scipy.interpolate import interpn\n",
    "from scipy.interpolate import interp1d\n",
    "import matplotlib.pyplot as plt\n",
    "import math\n",
    "from math import radians, cos, sin, asin, sqrt\n",
    "import scipy.io as sio\n",
    "import matplotlib.pyplot as plt\n",
    "from matplotlib.dates import DateFormatter"
   ],
   "outputs": [],
   "execution_count": 1
  },
  {
   "cell_type": "code",
   "id": "ea39cc05",
   "metadata": {
    "ExecuteTime": {
     "end_time": "2024-09-02T03:26:06.873819Z",
     "start_time": "2024-09-02T03:26:05.186279Z"
    }
   },
   "source": [
    "## 读取WRF数据\n",
    "with open('../data/wrf_dataset_init', 'rb') as f:\n",
    "    wrf_init = pickle.load(f)"
   ],
   "outputs": [],
   "execution_count": 2
  },
  {
   "cell_type": "code",
   "id": "328a8b7c",
   "metadata": {
    "ExecuteTime": {
     "end_time": "2024-09-02T03:26:06.878705Z",
     "start_time": "2024-09-02T03:26:06.874816Z"
    }
   },
   "source": [
    "wrf_init.keys()"
   ],
   "outputs": [
    {
     "data": {
      "text/plain": [
       "dict_keys(['time', 'u10', 'v10', 'rh2', 't2', 'slp', 'lon', 'lat', 'velocity', 'degree'])"
      ]
     },
     "execution_count": 3,
     "metadata": {},
     "output_type": "execute_result"
    }
   ],
   "execution_count": 3
  },
  {
   "cell_type": "code",
   "id": "4bdcb7a8",
   "metadata": {
    "ExecuteTime": {
     "end_time": "2024-09-02T03:26:06.883771Z",
     "start_time": "2024-09-02T03:26:06.879701Z"
    }
   },
   "source": [
    "## 读取Lable数据\n",
    "with open('../data/real_dataset_noabnormal', 'rb') as f:\n",
    "    real_target = pickle.load(f)"
   ],
   "outputs": [],
   "execution_count": 4
  },
  {
   "cell_type": "code",
   "id": "ea15f17d",
   "metadata": {
    "ExecuteTime": {
     "end_time": "2024-09-02T03:26:06.887770Z",
     "start_time": "2024-09-02T03:26:06.884770Z"
    }
   },
   "source": [
    "real_target.keys()"
   ],
   "outputs": [
    {
     "data": {
      "text/plain": [
       "Index(['站位编号', '获取时间', '经度', '纬度', '平均风速', '平均风向', '平均风速_10m'], dtype='object')"
      ]
     },
     "execution_count": 5,
     "metadata": {},
     "output_type": "execute_result"
    }
   ],
   "execution_count": 5
  },
  {
   "cell_type": "markdown",
   "id": "fd42d3f2",
   "metadata": {},
   "source": [
    "## 构造WRF数据点"
   ]
  },
  {
   "cell_type": "code",
   "id": "ac4d96e9",
   "metadata": {
    "ExecuteTime": {
     "end_time": "2024-09-02T03:26:10.795336Z",
     "start_time": "2024-09-02T03:26:10.789005Z"
    }
   },
   "source": [
    "# WRF数据场\n",
    "wrf_lon = wrf_init['lon']\n",
    "wrf_lat = wrf_init['lat']\n",
    "wrf_time = wrf_init['time']\n",
    "\n",
    "wrf_velocity = wrf_init['velocity']\n",
    "wrf_degree = wrf_init['degree']\n",
    "wrf_u10 = wrf_init['u10']\n",
    "wrf_v10 = wrf_init['v10']\n",
    "wrf_rh2 = wrf_init['rh2']\n",
    "wrf_t2 = wrf_init['t2']\n",
    "wrf_slp = wrf_init['slp']"
   ],
   "outputs": [],
   "execution_count": 6
  },
  {
   "cell_type": "code",
   "id": "6fb272fa",
   "metadata": {
    "ExecuteTime": {
     "end_time": "2024-09-02T03:26:10.969645Z",
     "start_time": "2024-09-02T03:26:10.967084Z"
    }
   },
   "source": [
    "print(wrf_lon.shape, wrf_lat.shape, wrf_time.shape, wrf_velocity.shape, wrf_degree.shape)"
   ],
   "outputs": [
    {
     "name": "stdout",
     "output_type": "stream",
     "text": [
      "(80,) (128,) (12192,) (12192, 128, 80) (12192, 128, 80)\n"
     ]
    }
   ],
   "execution_count": 7
  },
  {
   "cell_type": "markdown",
   "id": "fd129bb3",
   "metadata": {},
   "source": [
    "## 构造real数据点"
   ]
  },
  {
   "cell_type": "code",
   "id": "72a5aeb6",
   "metadata": {
    "ExecuteTime": {
     "end_time": "2024-09-02T03:26:27.599280Z",
     "start_time": "2024-09-02T03:26:27.570954Z"
    }
   },
   "source": [
    "# 分组提取数据\n",
    "df_group = real_target.groupby('站位编号')\n",
    "\n",
    "# time\n",
    "real_time_00 = df_group.get_group(0)['获取时间'].values\n",
    "real_time_01 = df_group.get_group(1)['获取时间'].values\n",
    "real_time_02 = df_group.get_group(2)['获取时间'].values\n",
    "real_time_03 = df_group.get_group(3)['获取时间'].values\n",
    "\n",
    "# lat\n",
    "real_lat_00 = df_group.mean(numeric_only=True)['纬度'].loc[0]\n",
    "real_lat_01 = df_group.mean(numeric_only=True)['纬度'].loc[1]\n",
    "real_lat_02 = df_group.mean(numeric_only=True)['纬度'].loc[2]\n",
    "real_lat_03 = df_group.mean(numeric_only=True)['纬度'].loc[3]\n",
    "\n",
    "# lon\n",
    "real_lon_00 = df_group.mean(numeric_only=True)['经度'].loc[0]\n",
    "real_lon_01 = df_group.mean(numeric_only=True)['经度'].loc[1]\n",
    "real_lon_02 = df_group.mean(numeric_only=True)['经度'].loc[2]\n",
    "real_lon_03 = df_group.mean(numeric_only=True)['经度'].loc[3]\n",
    "\n",
    "# velocity_10\n",
    "real_velocity_00 = df_group.get_group(0)['平均风速_10m'].values\n",
    "real_velocity_01 = df_group.get_group(1)['平均风速_10m'].values\n",
    "real_velocity_02 = df_group.get_group(2)['平均风速_10m'].values\n",
    "real_velocity_03 = df_group.get_group(3)['平均风速_10m'].values\n",
    "\n",
    "# degree\n",
    "real_degree_00 = df_group.get_group(0)['平均风向'].values\n",
    "real_degree_01 = df_group.get_group(1)['平均风向'].values\n",
    "real_degree_02 = df_group.get_group(2)['平均风向'].values\n",
    "real_degree_03 = df_group.get_group(3)['平均风向'].values"
   ],
   "outputs": [],
   "execution_count": 8
  },
  {
   "cell_type": "code",
   "id": "b1dbc7e3",
   "metadata": {
    "ExecuteTime": {
     "end_time": "2024-09-02T03:26:29.438616Z",
     "start_time": "2024-09-02T03:26:29.434688Z"
    }
   },
   "source": [
    "print(real_lat_00, real_lon_00)\n",
    "print(real_lat_01, real_lon_01)\n",
    "print(real_lat_02, real_lon_02)\n",
    "print(real_lat_03, real_lon_03)"
   ],
   "outputs": [
    {
     "name": "stdout",
     "output_type": "stream",
     "text": [
      "21.208984664802514 113.72401698357217\n",
      "21.353082562039315 113.96000312714988\n",
      "21.562553006905812 113.45516699995203\n",
      "20.891871804646385 113.78421043255038\n"
     ]
    }
   ],
   "execution_count": 9
  },
  {
   "cell_type": "markdown",
   "id": "f4641502",
   "metadata": {},
   "source": [
    "## 反距离权重插值"
   ]
  },
  {
   "cell_type": "code",
   "id": "ac20cdfe",
   "metadata": {
    "ExecuteTime": {
     "end_time": "2024-09-02T03:31:17.109054Z",
     "start_time": "2024-09-02T03:31:17.102055Z"
    }
   },
   "source": [
    "## IDW实现函数\n",
    "# 计算两点欧式距离\n",
    "def haversine(lon1, lat1, lon2, lat2):\n",
    "    R = 6372.8\n",
    "    dLon = radians(lon2 - lon1)\n",
    "    dLat = radians(lat2 - lat1)\n",
    "    lat1 = radians(lat1)\n",
    "    lat2 = radians(lat2)\n",
    "    a = sin(dLat/2)**2 + cos(lat1)*cos(lat2)*sin(dLon/2)**2  #半正矢公式\n",
    "    c = 2 * asin(sqrt(a)) #求解两点间中心角，大圆弧对应的球面角\n",
    "    d = R*c\n",
    "    return d\n",
    "\n",
    "# 反距离加权计算\n",
    "def IDW(y, x, z, yi, xi):\n",
    "    lstxyzi = []\n",
    "    for p in range(len(xi)):\n",
    "        lstdist = []\n",
    "        for s in range(len(x)):\n",
    "            d = (haversine(x[s], y[s], xi[p], yi[p]))\n",
    "            lstdist.append(d)\n",
    "        sumsup = list((1 / np.power(lstdist, 2)))\n",
    "        suminf = np.sum(sumsup)\n",
    "        sumsup = np.sum(np.array(sumsup) * np.array(z))\n",
    "        u = sumsup / suminf\n",
    "        xyzi = [xi[p] , yi[p] , u]\n",
    "        lstxyzi.append(xyzi)\n",
    "    return(lstxyzi)"
   ],
   "outputs": [],
   "execution_count": 10
  },
  {
   "cell_type": "code",
   "id": "82f289dd",
   "metadata": {
    "ExecuteTime": {
     "end_time": "2024-09-02T03:31:25.517305Z",
     "start_time": "2024-09-02T03:31:25.513887Z"
    }
   },
   "source": [
    "# 构建网格数据的所有空间点\n",
    "lat_grid, lon_grid = np.meshgrid(wrf_lat, wrf_lon, indexing='ij')\n",
    "position_origin = np.column_stack((lat_grid.flatten(), lon_grid.flatten()))\n",
    "x_origin = position_origin[:, 0]\n",
    "y_origin = position_origin[:, 1]"
   ],
   "outputs": [],
   "execution_count": 11
  },
  {
   "cell_type": "code",
   "id": "518fb0cc",
   "metadata": {
    "ExecuteTime": {
     "end_time": "2024-09-02T03:31:26.269657Z",
     "start_time": "2024-09-02T03:31:26.264819Z"
    }
   },
   "source": [
    "lat_grid.shape,lon_grid.shape"
   ],
   "outputs": [
    {
     "data": {
      "text/plain": [
       "((128, 80), (128, 80))"
      ]
     },
     "execution_count": 12,
     "metadata": {},
     "output_type": "execute_result"
    }
   ],
   "execution_count": 12
  },
  {
   "cell_type": "code",
   "id": "e19c768f",
   "metadata": {
    "ExecuteTime": {
     "end_time": "2024-09-02T03:31:27.440259Z",
     "start_time": "2024-09-02T03:31:27.435793Z"
    }
   },
   "source": [
    "len(x_origin)"
   ],
   "outputs": [
    {
     "data": {
      "text/plain": [
       "10240"
      ]
     },
     "execution_count": 13,
     "metadata": {},
     "output_type": "execute_result"
    }
   ],
   "execution_count": 13
  },
  {
   "cell_type": "code",
   "id": "f63b1caa",
   "metadata": {
    "ExecuteTime": {
     "end_time": "2024-09-02T03:31:27.939660Z",
     "start_time": "2024-09-02T03:31:27.936816Z"
    }
   },
   "source": [
    "position_origin.shape"
   ],
   "outputs": [
    {
     "data": {
      "text/plain": [
       "(10240, 2)"
      ]
     },
     "execution_count": 14,
     "metadata": {},
     "output_type": "execute_result"
    }
   ],
   "execution_count": 14
  },
  {
   "cell_type": "code",
   "id": "3af19a2d",
   "metadata": {
    "ExecuteTime": {
     "end_time": "2024-09-02T03:32:40.532863Z",
     "start_time": "2024-09-02T03:32:40.487597Z"
    }
   },
   "source": [
    "## 00\n",
    "distance_00 = []\n",
    "for step, i in enumerate(range(len(x_origin))):\n",
    "    distance_00.append(haversine(real_lon_00, real_lat_00, y_origin[i], x_origin[i]))\n",
    "\n",
    "distance_00 = np.array(distance_00)\n",
    "index_position_00 = np.where(distance_00 < 50)\n",
    "\n",
    "x_origin_target_00 = x_origin[index_position_00]\n",
    "y_origin_target_00 = y_origin[index_position_00]"
   ],
   "outputs": [],
   "execution_count": 17
  },
  {
   "cell_type": "code",
   "id": "34f20a56",
   "metadata": {
    "ExecuteTime": {
     "end_time": "2024-09-02T03:32:43.283065Z",
     "start_time": "2024-09-02T03:32:43.258124Z"
    }
   },
   "source": [
    "## 01\n",
    "distance_01 = []\n",
    "for step, i in enumerate(range(len(x_origin))):\n",
    "    distance_01.append(haversine(real_lon_01, real_lat_01, y_origin[i], x_origin[i]))\n",
    "\n",
    "distance_01 = np.array(distance_01)\n",
    "index_position_01 = np.where(distance_01 < 50)\n",
    "# print(index_position_01)\n",
    "\n",
    "x_origin_target_01 = x_origin[index_position_01]\n",
    "y_origin_target_01 = y_origin[index_position_01]"
   ],
   "outputs": [],
   "execution_count": 18
  },
  {
   "cell_type": "code",
   "id": "edc321a9",
   "metadata": {
    "ExecuteTime": {
     "end_time": "2024-09-02T03:32:44.260196Z",
     "start_time": "2024-09-02T03:32:44.222807Z"
    }
   },
   "source": [
    "## 02\n",
    "distance_02 = []\n",
    "for step, i in enumerate(range(len(x_origin))):\n",
    "    distance_02.append(haversine(real_lon_02, real_lat_02, y_origin[i], x_origin[i]))\n",
    "\n",
    "distance_02 = np.array(distance_02)\n",
    "index_position_02 = np.where(distance_02 < 50)\n",
    "# print(index_position_02)\n",
    "\n",
    "x_origin_target_02 = x_origin[index_position_02]\n",
    "y_origin_target_02 = y_origin[index_position_02]"
   ],
   "outputs": [],
   "execution_count": 19
  },
  {
   "cell_type": "code",
   "id": "ba5785d8",
   "metadata": {
    "ExecuteTime": {
     "end_time": "2024-09-02T03:32:49.690777Z",
     "start_time": "2024-09-02T03:32:49.653480Z"
    }
   },
   "source": [
    "## 03\n",
    "distance_03 = []\n",
    "for step, i in enumerate(range(len(x_origin))):\n",
    "    distance_03.append(haversine(real_lon_03, real_lat_03, y_origin[i], x_origin[i]))\n",
    "\n",
    "distance_03 = np.array(distance_03)\n",
    "index_position_03 = np.where(distance_03 < 50)\n",
    "# print(index_position_03)\n",
    "\n",
    "x_origin_target_03 = x_origin[index_position_03]\n",
    "y_origin_target_03 = y_origin[index_position_03]"
   ],
   "outputs": [],
   "execution_count": 20
  },
  {
   "cell_type": "code",
   "id": "328c35c8",
   "metadata": {
    "ExecuteTime": {
     "end_time": "2024-09-02T03:32:55.107292Z",
     "start_time": "2024-09-02T03:32:55.103110Z"
    }
   },
   "source": [
    "# 目标插值点--00\n",
    "x_target_00 = np.array([real_lat_00])\n",
    "y_target_00 = np.array([real_lon_00])\n",
    "\n",
    "# 目标插值点--01\n",
    "x_target_01 = np.array([real_lat_01])\n",
    "y_target_01 = np.array([real_lon_01])\n",
    "\n",
    "# 目标插值点--02\n",
    "x_target_02 = np.array([real_lat_02])\n",
    "y_target_02 = np.array([real_lon_02])\n",
    "\n",
    "# 目标插值点--03\n",
    "x_target_03 = np.array([real_lat_03])\n",
    "y_target_03 = np.array([real_lon_03])"
   ],
   "outputs": [],
   "execution_count": 21
  },
  {
   "cell_type": "code",
   "id": "06225d09",
   "metadata": {
    "ExecuteTime": {
     "end_time": "2024-09-02T03:32:55.968860Z",
     "start_time": "2024-09-02T03:32:55.964860Z"
    }
   },
   "source": [
    "np.size(wrf_time)"
   ],
   "outputs": [
    {
     "data": {
      "text/plain": [
       "12192"
      ]
     },
     "execution_count": 22,
     "metadata": {},
     "output_type": "execute_result"
    }
   ],
   "execution_count": 22
  },
  {
   "cell_type": "markdown",
   "id": "6119d790",
   "metadata": {},
   "source": [
    "## 创建存储容器"
   ]
  },
  {
   "cell_type": "code",
   "id": "68b147b3",
   "metadata": {
    "ExecuteTime": {
     "end_time": "2024-09-02T03:33:07.967211Z",
     "start_time": "2024-09-02T03:33:07.962211Z"
    }
   },
   "source": [
    "# 00\n",
    "velocity10_target_00 = np.empty((np.size(wrf_time), np.size(x_target_00)))\n",
    "degree_target_00 = np.empty((np.size(wrf_time), np.size(x_target_00)))\n",
    "u10_target_00 = np.empty((np.size(wrf_time), np.size(x_target_00)))\n",
    "v10_target_00 = np.empty((np.size(wrf_time), np.size(x_target_00)))\n",
    "rh2_target_00 = np.empty((np.size(wrf_time), np.size(x_target_00)))\n",
    "t2_target_00 = np.empty((np.size(wrf_time), np.size(x_target_00)))\n",
    "slp_target_00 = np.empty((np.size(wrf_time), np.size(x_target_00)))"
   ],
   "outputs": [],
   "execution_count": 23
  },
  {
   "cell_type": "code",
   "id": "6a88464e",
   "metadata": {
    "ExecuteTime": {
     "end_time": "2024-09-02T03:33:09.149812Z",
     "start_time": "2024-09-02T03:33:09.146032Z"
    }
   },
   "source": [
    "# 01\n",
    "velocity10_target_01 = np.empty((np.size(wrf_time), np.size(x_target_01)))\n",
    "degree_target_01 = np.empty((np.size(wrf_time), np.size(x_target_01)))\n",
    "u10_target_01 = np.empty((np.size(wrf_time), np.size(x_target_01)))\n",
    "v10_target_01 = np.empty((np.size(wrf_time), np.size(x_target_01)))\n",
    "rh2_target_01 = np.empty((np.size(wrf_time), np.size(x_target_01)))\n",
    "t2_target_01 = np.empty((np.size(wrf_time), np.size(x_target_01)))\n",
    "slp_target_01 = np.empty((np.size(wrf_time), np.size(x_target_01)))"
   ],
   "outputs": [],
   "execution_count": 24
  },
  {
   "cell_type": "code",
   "id": "37620757",
   "metadata": {
    "ExecuteTime": {
     "end_time": "2024-09-02T03:33:10.035152Z",
     "start_time": "2024-09-02T03:33:10.030632Z"
    }
   },
   "source": [
    "# 02\n",
    "velocity10_target_02 = np.empty((np.size(wrf_time), np.size(x_target_02)))\n",
    "degree_target_02 = np.empty((np.size(wrf_time), np.size(x_target_02)))\n",
    "u10_target_02 = np.empty((np.size(wrf_time), np.size(x_target_02)))\n",
    "v10_target_02 = np.empty((np.size(wrf_time), np.size(x_target_02)))\n",
    "rh2_target_02 = np.empty((np.size(wrf_time), np.size(x_target_02)))\n",
    "t2_target_02 = np.empty((np.size(wrf_time), np.size(x_target_02)))\n",
    "slp_target_02 = np.empty((np.size(wrf_time), np.size(x_target_02)))"
   ],
   "outputs": [],
   "execution_count": 25
  },
  {
   "cell_type": "code",
   "id": "c74038c8",
   "metadata": {
    "ExecuteTime": {
     "end_time": "2024-09-02T03:33:10.468368Z",
     "start_time": "2024-09-02T03:33:10.465368Z"
    }
   },
   "source": [
    "# 03\n",
    "velocity10_target_03 = np.empty((np.size(wrf_time), np.size(x_target_03)))\n",
    "degree_target_03 = np.empty((np.size(wrf_time), np.size(x_target_03)))\n",
    "u10_target_03 = np.empty((np.size(wrf_time), np.size(x_target_03)))\n",
    "v10_target_03 = np.empty((np.size(wrf_time), np.size(x_target_03)))\n",
    "rh2_target_03 = np.empty((np.size(wrf_time), np.size(x_target_03)))\n",
    "t2_target_03 = np.empty((np.size(wrf_time), np.size(x_target_03)))\n",
    "slp_target_03 = np.empty((np.size(wrf_time), np.size(x_target_03)))"
   ],
   "outputs": [],
   "execution_count": 26
  },
  {
   "cell_type": "code",
   "id": "6397a531-e5cc-40b8-afb0-74299b045707",
   "metadata": {
    "ExecuteTime": {
     "end_time": "2024-09-02T03:33:11.005744Z",
     "start_time": "2024-09-02T03:33:11.002625Z"
    }
   },
   "source": [
    "x_target_00"
   ],
   "outputs": [
    {
     "data": {
      "text/plain": [
       "array([21.20898466])"
      ]
     },
     "execution_count": 27,
     "metadata": {},
     "output_type": "execute_result"
    }
   ],
   "execution_count": 27
  },
  {
   "cell_type": "code",
   "id": "ac8f8e37",
   "metadata": {
    "ExecuteTime": {
     "end_time": "2024-09-02T03:33:35.831672Z",
     "start_time": "2024-09-02T03:33:20.568219Z"
    }
   },
   "source": [
    "# 循环计算每个时间步 反距离插值--00\n",
    "for i, t in enumerate(wrf_time):\n",
    "    # 每个时间步的原始信息场\n",
    "    velocity10_current = wrf_velocity[i, :].flatten()\n",
    "    degree_current = wrf_degree[i, :].flatten()\n",
    "    u10_current = wrf_u10[i, :].flatten()\n",
    "    v10_current = wrf_v10[i, :].flatten()\n",
    "    rh2_current = wrf_rh2[i, :].flatten()\n",
    "    t2_current = wrf_t2[i, :].flatten()\n",
    "    slp_current = wrf_slp[i, :].flatten()\n",
    "    # 反距离插值\n",
    "    velocity10_target_00[i, :] = np.array(IDW(x_origin_target_00, y_origin_target_00, velocity10_current[index_position_00], x_target_00, y_target_00))[:, -1]\n",
    "    degree_target_00[i, :] = np.array(IDW(x_origin_target_00, y_origin_target_00, degree_current[index_position_00], x_target_00, y_target_00))[:, -1]\n",
    "    u10_target_00[i, :] = np.array(IDW(x_origin_target_00, y_origin_target_00, u10_current[index_position_00], x_target_00, y_target_00))[:, -1]\n",
    "    v10_target_00[i, :] = np.array(IDW(x_origin_target_00, y_origin_target_00, v10_current[index_position_00], x_target_00, y_target_00))[:, -1]\n",
    "    rh2_target_00[i, :] = np.array(IDW(x_origin_target_00, y_origin_target_00, rh2_current[index_position_00], x_target_00, y_target_00))[:, -1]\n",
    "    t2_target_00[i, :] = np.array(IDW(x_origin_target_00, y_origin_target_00, t2_current[index_position_00], x_target_00, y_target_00))[:, -1]\n",
    "    slp_target_00[i, :] = np.array(IDW(x_origin_target_00, y_origin_target_00, slp_current[index_position_00], x_target_00, y_target_00))[:, -1]"
   ],
   "outputs": [],
   "execution_count": 28
  },
  {
   "cell_type": "code",
   "id": "568ab663-9a7b-4468-be0c-d286811da7db",
   "metadata": {
    "ExecuteTime": {
     "end_time": "2024-09-02T03:33:35.835456Z",
     "start_time": "2024-09-02T03:33:35.831864Z"
    }
   },
   "source": [
    "x_origin_target_00.shape, y_origin_target_00.shape"
   ],
   "outputs": [
    {
     "data": {
      "text/plain": [
       "((72,), (72,))"
      ]
     },
     "execution_count": 29,
     "metadata": {},
     "output_type": "execute_result"
    }
   ],
   "execution_count": 29
  },
  {
   "cell_type": "code",
   "id": "3e8ae99e-7fa2-4d23-ac36-540070c47ab8",
   "metadata": {
    "ExecuteTime": {
     "end_time": "2024-09-02T03:33:38.549721Z",
     "start_time": "2024-09-02T03:33:38.545748Z"
    }
   },
   "source": [
    "velocity10_current[index_position_00].shape"
   ],
   "outputs": [
    {
     "data": {
      "text/plain": [
       "(72,)"
      ]
     },
     "execution_count": 30,
     "metadata": {},
     "output_type": "execute_result"
    }
   ],
   "execution_count": 30
  },
  {
   "cell_type": "code",
   "id": "ee0668a9-be85-463e-b465-41152d397593",
   "metadata": {
    "ExecuteTime": {
     "end_time": "2024-09-02T03:33:39.309182Z",
     "start_time": "2024-09-02T03:33:39.305182Z"
    }
   },
   "source": [
    "x_target_00"
   ],
   "outputs": [
    {
     "data": {
      "text/plain": [
       "array([21.20898466])"
      ]
     },
     "execution_count": 31,
     "metadata": {},
     "output_type": "execute_result"
    }
   ],
   "execution_count": 31
  },
  {
   "cell_type": "code",
   "id": "cf755767-c453-41e6-a748-9d903af417d5",
   "metadata": {
    "ExecuteTime": {
     "end_time": "2024-09-02T03:33:40.553974Z",
     "start_time": "2024-09-02T03:33:40.550304Z"
    }
   },
   "source": [
    "velocity10_target_00.shape"
   ],
   "outputs": [
    {
     "data": {
      "text/plain": [
       "(12192, 1)"
      ]
     },
     "execution_count": 32,
     "metadata": {},
     "output_type": "execute_result"
    }
   ],
   "execution_count": 32
  },
  {
   "cell_type": "code",
   "id": "222893d3",
   "metadata": {
    "ExecuteTime": {
     "end_time": "2024-09-02T03:34:01.307836Z",
     "start_time": "2024-09-02T03:33:46.937201Z"
    }
   },
   "source": [
    "# 循环计算每个时间步 反距离插值--01\n",
    "for i, t in enumerate(wrf_time):\n",
    "    # 每个时间步的原始信息场\n",
    "    velocity10_current = wrf_velocity[i, :].flatten()\n",
    "    degree_current = wrf_degree[i, :].flatten()\n",
    "    u10_current = wrf_u10[i, :].flatten()\n",
    "    v10_current = wrf_v10[i, :].flatten()\n",
    "    rh2_current = wrf_rh2[i, :].flatten()\n",
    "    t2_current = wrf_t2[i, :].flatten()\n",
    "    slp_current = wrf_slp[i, :].flatten()\n",
    "    # 反距离插值\n",
    "    velocity10_target_01[i, :] = np.array(IDW(x_origin_target_01, y_origin_target_01, velocity10_current[index_position_01], x_target_01, y_target_01))[:, -1]\n",
    "    degree_target_01[i, :] = np.array(IDW(x_origin_target_01, y_origin_target_01, degree_current[index_position_01], x_target_01, y_target_01))[:, -1]\n",
    "    u10_target_01[i, :] = np.array(IDW(x_origin_target_01, y_origin_target_01, u10_current[index_position_01], x_target_01, y_target_01))[:, -1]\n",
    "    v10_target_01[i, :] = np.array(IDW(x_origin_target_01, y_origin_target_01, v10_current[index_position_01], x_target_01, y_target_01))[:, -1]\n",
    "    rh2_target_01[i, :] = np.array(IDW(x_origin_target_01, y_origin_target_01, rh2_current[index_position_01], x_target_01, y_target_01))[:, -1]\n",
    "    t2_target_01[i, :] = np.array(IDW(x_origin_target_01, y_origin_target_01, t2_current[index_position_01], x_target_01, y_target_01))[:, -1]\n",
    "    slp_target_01[i, :] = np.array(IDW(x_origin_target_01, y_origin_target_01, slp_current[index_position_01], x_target_01, y_target_01))[:, -1]"
   ],
   "outputs": [],
   "execution_count": 33
  },
  {
   "cell_type": "code",
   "id": "71bdba20",
   "metadata": {
    "ExecuteTime": {
     "end_time": "2024-09-02T03:34:15.714578Z",
     "start_time": "2024-09-02T03:34:01.308341Z"
    }
   },
   "source": [
    "# 循环计算每个时间步 反距离插值--02\n",
    "for i, t in enumerate(wrf_time):\n",
    "    # 每个时间步的原始信息场\n",
    "    velocity10_current = wrf_velocity[i, :].flatten()\n",
    "    degree_current = wrf_degree[i, :].flatten()\n",
    "    u10_current = wrf_u10[i, :].flatten()\n",
    "    v10_current = wrf_v10[i, :].flatten()\n",
    "    rh2_current = wrf_rh2[i, :].flatten()\n",
    "    t2_current = wrf_t2[i, :].flatten()\n",
    "    slp_current = wrf_slp[i, :].flatten()\n",
    "    # 反距离插值\n",
    "    velocity10_target_02[i, :] = np.array(IDW(x_origin_target_02, y_origin_target_02, velocity10_current[index_position_02], x_target_02, y_target_02))[:, -1]\n",
    "    degree_target_02[i, :] = np.array(IDW(x_origin_target_02, y_origin_target_02, degree_current[index_position_02], x_target_02, y_target_02))[:, -1]\n",
    "    u10_target_02[i, :] = np.array(IDW(x_origin_target_02, y_origin_target_02, u10_current[index_position_02], x_target_02, y_target_02))[:, -1]\n",
    "    v10_target_02[i, :] = np.array(IDW(x_origin_target_02, y_origin_target_02, v10_current[index_position_02], x_target_02, y_target_02))[:, -1]\n",
    "    rh2_target_02[i, :] = np.array(IDW(x_origin_target_02, y_origin_target_02, rh2_current[index_position_02], x_target_02, y_target_02))[:, -1]\n",
    "    t2_target_02[i, :] = np.array(IDW(x_origin_target_02, y_origin_target_02, t2_current[index_position_02], x_target_02, y_target_02))[:, -1]\n",
    "    slp_target_02[i, :] = np.array(IDW(x_origin_target_02, y_origin_target_02, slp_current[index_position_02], x_target_02, y_target_02))[:, -1]"
   ],
   "outputs": [],
   "execution_count": 34
  },
  {
   "cell_type": "code",
   "id": "4d9542e8",
   "metadata": {
    "ExecuteTime": {
     "end_time": "2024-09-02T03:34:29.522396Z",
     "start_time": "2024-09-02T03:34:15.714578Z"
    }
   },
   "source": [
    "# 循环计算每个时间步 反距离插值--03\n",
    "for i, t in enumerate(wrf_time):\n",
    "    # 每个时间步的原始信息场\n",
    "    velocity10_current = wrf_velocity[i, :].flatten()\n",
    "    degree_current = wrf_degree[i, :].flatten()\n",
    "    u10_current = wrf_u10[i, :].flatten()\n",
    "    v10_current = wrf_v10[i, :].flatten()\n",
    "    rh2_current = wrf_rh2[i, :].flatten()\n",
    "    t2_current = wrf_t2[i, :].flatten()\n",
    "    slp_current = wrf_slp[i, :].flatten()\n",
    "    # 反距离插值\n",
    "    velocity10_target_03[i, :] = np.array(IDW(x_origin_target_03, y_origin_target_03, velocity10_current[index_position_03], x_target_03, y_target_03))[:, -1]\n",
    "    degree_target_03[i, :] = np.array(IDW(x_origin_target_03, y_origin_target_03, degree_current[index_position_03], x_target_03, y_target_03))[:, -1]\n",
    "    u10_target_03[i, :] = np.array(IDW(x_origin_target_03, y_origin_target_03, u10_current[index_position_03], x_target_03, y_target_03))[:, -1]\n",
    "    v10_target_03[i, :] = np.array(IDW(x_origin_target_03, y_origin_target_03, v10_current[index_position_03], x_target_03, y_target_03))[:, -1]\n",
    "    rh2_target_03[i, :] = np.array(IDW(x_origin_target_03, y_origin_target_03, rh2_current[index_position_03], x_target_03, y_target_03))[:, -1]\n",
    "    t2_target_03[i, :] = np.array(IDW(x_origin_target_03, y_origin_target_03, t2_current[index_position_03], x_target_03, y_target_03))[:, -1]\n",
    "    slp_target_03[i, :] = np.array(IDW(x_origin_target_03, y_origin_target_03, slp_current[index_position_03], x_target_03, y_target_03))[:, -1]"
   ],
   "outputs": [],
   "execution_count": 35
  },
  {
   "cell_type": "code",
   "id": "2564e3c0",
   "metadata": {
    "ExecuteTime": {
     "end_time": "2024-09-02T03:35:34.323554Z",
     "start_time": "2024-09-02T03:35:34.319471Z"
    }
   },
   "source": [
    "velocity10_target_00.shape"
   ],
   "outputs": [
    {
     "data": {
      "text/plain": [
       "(12192, 1)"
      ]
     },
     "execution_count": 36,
     "metadata": {},
     "output_type": "execute_result"
    }
   ],
   "execution_count": 36
  },
  {
   "cell_type": "code",
   "id": "c58361a5",
   "metadata": {
    "ExecuteTime": {
     "end_time": "2024-09-02T03:35:58.998491Z",
     "start_time": "2024-09-02T03:35:58.993474Z"
    }
   },
   "source": [
    "# 保存数据--00\n",
    "sio.savemat(os.path.join('../data', 'idw_00_100.mat'), \n",
    "            {'idw_velocity10': velocity10_target_00, 'idw_degree': degree_target_00,\n",
    "             'idw_u10': u10_target_00, 'idw_v10': v10_target_00, \n",
    "             'idw_rh2': rh2_target_00, 'idw_t2': t2_target_00,\n",
    "             'idw_slp': slp_target_00})"
   ],
   "outputs": [],
   "execution_count": 37
  },
  {
   "cell_type": "code",
   "id": "d839a355",
   "metadata": {
    "ExecuteTime": {
     "end_time": "2024-09-02T03:36:02.910221Z",
     "start_time": "2024-09-02T03:36:02.905130Z"
    }
   },
   "source": [
    "# 保存数据--01\n",
    "sio.savemat(os.path.join('../data', 'idw_01_100.mat'), \n",
    "            {'idw_velocity10': velocity10_target_01, 'idw_degree': degree_target_01,\n",
    "             'idw_u10': u10_target_01, 'idw_v10': v10_target_01, \n",
    "             'idw_rh2': rh2_target_01, 'idw_t2': t2_target_01,\n",
    "             'idw_slp': slp_target_01})"
   ],
   "outputs": [],
   "execution_count": 38
  },
  {
   "cell_type": "code",
   "id": "97c782eb",
   "metadata": {
    "ExecuteTime": {
     "end_time": "2024-09-02T03:36:03.774385Z",
     "start_time": "2024-09-02T03:36:03.769807Z"
    }
   },
   "source": [
    "# 保存数据--02\n",
    "sio.savemat(os.path.join('../data', 'idw_02_100.mat'), \n",
    "            {'idw_velocity10': velocity10_target_02, 'idw_degree': degree_target_02,\n",
    "             'idw_u10': u10_target_02, 'idw_v10': v10_target_02, \n",
    "             'idw_rh2': rh2_target_02, 'idw_t2': t2_target_02,\n",
    "             'idw_slp': slp_target_02})"
   ],
   "outputs": [],
   "execution_count": 39
  },
  {
   "cell_type": "code",
   "id": "462ee63c",
   "metadata": {
    "ExecuteTime": {
     "end_time": "2024-09-02T03:36:04.125226Z",
     "start_time": "2024-09-02T03:36:04.120212Z"
    }
   },
   "source": [
    "# 保存数据--03\n",
    "sio.savemat(os.path.join('../data', 'idw_03_100.mat'), \n",
    "            {'idw_velocity10': velocity10_target_03, 'idw_degree': degree_target_03,\n",
    "             'idw_u10': u10_target_03, 'idw_v10': v10_target_03, \n",
    "             'idw_rh2': rh2_target_03, 'idw_t2': t2_target_03,\n",
    "             'idw_slp': slp_target_03})"
   ],
   "outputs": [],
   "execution_count": 40
  },
  {
   "metadata": {},
   "cell_type": "code",
   "outputs": [],
   "execution_count": null,
   "source": "",
   "id": "a8eb7ac9b469e7a7"
  }
 ],
 "metadata": {
  "kernelspec": {
   "display_name": "Python 3 (ipykernel)",
   "language": "python",
   "name": "python3"
  },
  "language_info": {
   "codemirror_mode": {
    "name": "ipython",
    "version": 3
   },
   "file_extension": ".py",
   "mimetype": "text/x-python",
   "name": "python",
   "nbconvert_exporter": "python",
   "pygments_lexer": "ipython3",
   "version": "3.12.2"
  }
 },
 "nbformat": 4,
 "nbformat_minor": 5
}
